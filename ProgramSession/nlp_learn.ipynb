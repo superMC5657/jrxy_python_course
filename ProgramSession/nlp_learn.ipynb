{
 "cells": [
  {
   "cell_type": "markdown",
   "metadata": {},
   "source": [
    "### 金融领域中的自然语言处理"
   ]
  },
  {
   "cell_type": "markdown",
   "metadata": {},
   "source": [
    "NLP本身是人工智能中的一个重要的方向，简单来说，**自然语言处理的目标就是让机器去理解人的文本或语言**，其中如机器翻译、语音识别、语义理解、智能问答，知识图谱等都属于NLP的范畴。\n",
    "\n",
    "自计算机诞生伊始，人类就致力于让机器来理解我们语言。随着人工智能、计算机科学、信息工程、统计学、甚至语言学等学科知识的不断进步，目前NLP已经拥有了大量的商业应用，如机器翻译（Google翻译、有道翻译等）、知识图谱（以Google为代表的搜索引擎）、智能问答（Apple的Siri、亚马逊的Alexa以及各种智能机器人）等等。\n",
    "\n",
    "但是，金融领域的NLP目前仍处于探索阶段，金融本身是一个专业性很高的领域，很多词汇在金融语境下会产生特殊含义，所有的子问题都会有一个独特的理解方式，而且金融领域衡量处理结果的方式也与其他领域不同。比如针对舆情分析，金融领域要求对市场未来的走势有一定的预见性。\n",
    "\n",
    "因此，金融领域的NLP需要准备特殊的训练数据集，而目前NLP所有方法都是基于大量的数据集基础上，**数据集的缺乏**也是目前NLP在金融领域所面临的最大问题之一，这也是金融领域高度的专业性与深度导致的。"
   ]
  },
  {
   "cell_type": "markdown",
   "metadata": {},
   "source": [
    "#### 一个强大的NLP系统能够帮助金融机构解决哪些实际问题？\n",
    "\n",
    "全网舆情监控、产业链分析、让机器帮助金融机构阅读大量新闻。\n",
    "\n",
    "例如，商业银行希望使用更全面的数据进行企业的信贷风险管理，提前感知企业的潜在风险。目前常规的风险评估方法是根据企业公布的年报，并综合信贷员实地调查的结果进行判断，但是由于企业自身风险报出通常具有滞后性，公开信息覆盖度不高，看到的往往只是冰山一角，因此判断风险的手段十分单一。这也是NLP与人工智能可以发挥作用的地方。\n",
    "\n",
    "NLP可以对信息进行多维关系的挖掘，评估企业之间的关系，并通过知识图谱直观呈现企业之间的关联，提前设立预警信号，一旦企业关系网内的相关对象出现任意变动，便可根据关系权重，快速地评估对整个关系网的影响程度。\n",
    "\n",
    "![](http://5b0988e595225.cdn.sohucs.com/images/20180817/1be14f4f13914a80bd3c29ed7e74b4c4.png)"
   ]
  },
  {
   "cell_type": "markdown",
   "metadata": {},
   "source": [
    "#### 金融语义应用场景概念框\n",
    "\n",
    "1. 智能问答和语义搜索\n",
    "\n",
    "智能问答和语义搜索是自然语言处理（NLP）的关键技术，目的是让用户以自然语言形式提出问题，深入进行语义分析，以更好理解用户意图，快速准确获取知识库中的信息。在用户界面上，既可以表现为问答机器人的形式（智能问答），也可以为搜索引擎的形式（语义搜索）。智能问答系统一般包括问句理解、信息检索、答案生成三个环节。基于知识图谱的智能问答相比基于文本的问答更能满足金融业务实际需求。\n",
    "\n",
    "2. 资讯与舆情分析\n",
    "\n",
    "金融资讯信息非常丰富，例如公司新闻（公告、重要事件、财务状况等）、金融产品资料（股票、证券等）、宏观经济（通货膨胀、失业率等）、政策法规（宏观政策、税收政策等）、社交媒体评论等。金融资讯每天产生的数量非常庞大，要从浩如烟海的资讯库中准确找到相关文章，还要阅读分析每篇重要内容，是费时费力的工作。如果有一个工具帮助人工快速迅捷获取资讯信息，将大大提高工作效率。资讯舆情分析的主要功能包括资讯分类标签（按公司、产品、行业、概念板块等）、情感正负面分析（文章、公司或产品的情感）、自动文摘（文章的主要内容）、资讯个性化推荐、舆情监测预警（热点热度、云图、负面预警等）。\n",
    "\n",
    "3. 金融预测和分析\n",
    "\n",
    "基于语义的金融预测即利用金融文本中包含的信息预测各种金融市场波动，它是以NLP等人工智能技术与量化金融技术的结合。金融文本数据提供的信息是定性的（qualitative），而通常数字形式的数据是定量的（quantitative）。定性分析比定量分析更难，定性信息包含的信息量更大。有分析表明，投资决策人员在进行决策时，更多依赖于新闻、事件甚至流言等定性信息，而非定量数据。因此，可期待基于语义的金融预测分析大有潜力可挖。这个场景中涉及的关键NLP技术包括事件抽取和情感分析技术。\n",
    "\n",
    "4. 文档信息抽取\n",
    "\n",
    "信息抽取是NLP的一种基础技术，是NLP进一步进行数据挖掘分析的基础，也是知识图谱中知识抽取的基础。采用的方法包括基于规则模板的槽填充的方法、基于机器学习或深度学习的方法。按抽取内容分可以分为实体抽取、属性抽取、关系抽取、规则抽取、事件抽取等。在这里的文档信息抽取特指一种金融应用场景。指从金融文档（如公告研报）等抽取指定的关键信息，如公司名称、人名、指标名称、数值等。文档格式可能是格式化文档（word, pdf, html等）或纯文本。对格式化文本进行抽取时需要处理并利用表格、标题等格式信息。\n",
    "\n",
    "5. 自动文档生成\n",
    "\n",
    "自动文档生成指根据一定的数据来源自动产生各类金融文档。常见的需要生成的金融文档如信息披露公告（债券评级、股转书等）、各种研究报告。自动报告生成属于生成型NLP应用。它的数据来源可能是结构化数据，也可能是从非结构化数据用信息抽取技术取得的，也可能是在金融预测分析场景中获得的结论。简单的报告生成方法是根据预定义的模板，把关键数据填充进去得到报告。进一步的自动报告生成需要比较深入的NLG技术，它可以把数据和分析结论转换成流畅的自然语言文本。\n"
   ]
  },
  {
   "cell_type": "markdown",
   "metadata": {},
   "source": [
    "### 百度LAC \n",
    "\n",
    "LAC全称Lexical Analysis of Chinese，是百度自然语言处理部研发的一款联合的**词法分析**工具，实现中文分词、词性标注、专名识别等功能。具体内容参见https://github.com/baidu/lac/\n",
    "\n",
    "安装\n",
    "- 全自动安装: ``pip install lac``\n",
    "- 使用百度源安装，安装速率更快：``pip install lac -i https://mirror.baidu.com/pypi/simple``\n"
   ]
  },
  {
   "cell_type": "markdown",
   "metadata": {},
   "source": [
    "#### 分词"
   ]
  },
  {
   "cell_type": "code",
   "execution_count": 12,
   "metadata": {},
   "outputs": [],
   "source": [
    "from LAC import LAC\n",
    "\n",
    "# 装载分词模型\n",
    "lac = LAC(mode='seg')\n",
    "\n",
    "# 单个样本输入\n",
    "text = u\"LAC是个优秀的分词工具\"  #u表示将字符串以 Unicode 格式进行编码，一般用在中文字符串前，防止乱码\n",
    "seg_result = lac.run(text)\n",
    "\n",
    "# 批量样本输入, 输入为多个句子组成的list，平均速率会更快\n",
    "texts = [u\"LAC是个优秀的分词工具\", u\"百度是一家高科技公司\"]\n",
    "seg_result = lac.run(texts)"
   ]
  },
  {
   "cell_type": "code",
   "execution_count": 13,
   "metadata": {},
   "outputs": [
    {
     "data": {
      "text/plain": [
       "[['LAC', '是', '个', '优秀', '的', '分词', '工具'], ['百度', '是', '一家', '高科技', '公司']]"
      ]
     },
     "execution_count": 13,
     "metadata": {},
     "output_type": "execute_result"
    }
   ],
   "source": [
    "seg_result"
   ]
  },
  {
   "cell_type": "markdown",
   "metadata": {},
   "source": [
    "#### 词性标注与实体识别\n",
    "\n",
    "在官方文档中有对于词性和专名类别标签的说明，请大家自行参阅。其中最常用的4个专名类别标记为大写（PER：人名、LOC：地名、ORG：机构名、TIME：时间）"
   ]
  },
  {
   "cell_type": "code",
   "execution_count": 14,
   "metadata": {},
   "outputs": [],
   "source": [
    "from LAC import LAC\n",
    "\n",
    "# 装载LAC模型\n",
    "lac = LAC(mode='lac')\n",
    "\n",
    "# 单个样本输入，输入为Unicode编码的字符串\n",
    "text = u\"LAC是个优秀的分词工具\"\n",
    "lac_result = lac.run(text)\n",
    "\n",
    "# 批量样本输入, 输入为多个句子组成的list，平均速率更快\n",
    "texts = [u\"LAC是个优秀的分词工具\", u\"百度是一家高科技公司\"]\n",
    "lac_result = lac.run(texts)"
   ]
  },
  {
   "cell_type": "code",
   "execution_count": 15,
   "metadata": {},
   "outputs": [
    {
     "data": {
      "text/plain": [
       "[[['LAC', '是', '个', '优秀', '的', '分词', '工具'],\n",
       "  ['nz', 'v', 'q', 'a', 'u', 'n', 'n']],\n",
       " [['百度', '是', '一家', '高科技', '公司'], ['ORG', 'v', 'm', 'n', 'n']]]"
      ]
     },
     "execution_count": 15,
     "metadata": {},
     "output_type": "execute_result"
    }
   ],
   "source": [
    "lac_result"
   ]
  },
  {
   "cell_type": "markdown",
   "metadata": {},
   "source": [
    "#### 词语重要性\n",
    "\n",
    "百度lac使用4-Level梯度对词语重要性进行分类，各类别标签可参阅官方文档。"
   ]
  },
  {
   "cell_type": "code",
   "execution_count": 35,
   "metadata": {},
   "outputs": [],
   "source": [
    "from LAC import LAC\n",
    "\n",
    "# 装载词语重要性模型\n",
    "lac = LAC(mode='rank')\n",
    "\n",
    "# 单个样本输入，输入为Unicode编码的字符串\n",
    "text = u\"LAC是个优秀的分词工具\"\n",
    "rank_result = lac.run(text)\n",
    "\n",
    "# 批量样本输入, 输入为多个句子组成的list，平均速率会更快\n",
    "texts = [u\"LAC是个优秀的分词工具\", u\"百度是一家高科技公司\"]\n",
    "rank_result = lac.run(texts)\n"
   ]
  },
  {
   "cell_type": "code",
   "execution_count": 36,
   "metadata": {},
   "outputs": [
    {
     "data": {
      "text/plain": [
       "[[['LAC', '是', '个', '优秀', '的', '分词', '工具'],\n",
       "  ['nz', 'v', 'q', 'a', 'u', 'n', 'n'],\n",
       "  [3, 0, 0, 2, 0, 3, 1]],\n",
       " [['百度', '是', '一家', '高科技', '公司'],\n",
       "  ['ORG', 'v', 'm', 'n', 'n'],\n",
       "  [3, 0, 2, 3, 1]]]"
      ]
     },
     "execution_count": 36,
     "metadata": {},
     "output_type": "execute_result"
    }
   ],
   "source": [
    "rank_result"
   ]
  },
  {
   "cell_type": "markdown",
   "metadata": {},
   "source": [
    "### “结巴”分词\n",
    "\n",
    "jieba是一个Python中文分词组件，可以对中文文本进行分词、词性标注、关键词抽取等功能，并且支持自定义词典。具体参见https://github.com/fxsjy/jieba  \n",
    "\n",
    "安装：\n",
    "``pip install jieba``\n",
    "\n",
    "支持四种分词模式：\n",
    "- 精确模式，试图将句子最精确地切开，适合文本分析；\n",
    "- 全模式，把句子中所有的可以成词的词语都扫描出来, 速度非常快，但是不能解决歧义；\n",
    "- 搜索引擎模式，在精确模式的基础上，对长词再次切分，提高召回率，适合用于搜索引擎分词。\n",
    "- paddle模式，利用PaddlePaddle深度学习框架，训练序列标注（双向GRU）网络模型实现分词。同时支持词性标注。"
   ]
  },
  {
   "cell_type": "markdown",
   "metadata": {},
   "source": [
    "#### 分词\n",
    "\n",
    "- `jieba.cut` 以及 `jieba.cut_for_search` 返回的结构都是一个可迭代的 generator，可以使用 for 循环来获得分词后得到的每一个词\n",
    "- `jieba.lcut` 以及 `jieba.lcut_for_search` 直接返回 list"
   ]
  },
  {
   "cell_type": "code",
   "execution_count": 12,
   "metadata": {},
   "outputs": [
    {
     "name": "stdout",
     "output_type": "stream",
     "text": [
      "我/ 来自/ 浙江/ 工商大学\n"
     ]
    }
   ],
   "source": [
    "import jieba\n",
    "\n",
    "text = '我来自浙江工商大学'\n",
    "\n",
    "seg_list = jieba.lcut(text, cut_all=False) ## cut_all 参数用来控制是否采用全模式\n",
    "print(\"/ \".join(seg_list)) "
   ]
  },
  {
   "cell_type": "markdown",
   "metadata": {},
   "source": [
    "#### 词性标注"
   ]
  },
  {
   "cell_type": "code",
   "execution_count": 13,
   "metadata": {},
   "outputs": [
    {
     "name": "stdout",
     "output_type": "stream",
     "text": [
      "我 r\n",
      "来自 v\n",
      "浙江 ns\n",
      "工商大学 nt\n"
     ]
    }
   ],
   "source": [
    "import jieba.posseg as pseg\n",
    "\n",
    "words = pseg.lcut(text)\n",
    "for word, flag in words:\n",
    "    print('{} {}'.format(word, flag))  ## 格式化输出"
   ]
  },
  {
   "cell_type": "code",
   "execution_count": 14,
   "metadata": {},
   "outputs": [
    {
     "data": {
      "text/plain": [
       "[pair('我', 'r'), pair('来自', 'v'), pair('浙江', 'ns'), pair('工商大学', 'nt')]"
      ]
     },
     "execution_count": 14,
     "metadata": {},
     "output_type": "execute_result"
    }
   ],
   "source": [
    "words"
   ]
  },
  {
   "cell_type": "markdown",
   "metadata": {},
   "source": [
    "#### 关键词提取\n",
    "\n",
    "**基于 TF-IDF 算法的关键词提取**\n",
    "\n",
    "TF-IDF（Term Frequency-Inverse Document Frequency, 词频-逆文件频率）是一种统计方法，用以评估一个词语对于一个文件集或一个语料库中的一份文件的重要程度，其原理可概括为：\n",
    "\n",
    "> 一个词语在一篇文章中出现次数越多，同时在所有文档中出现次数越少，越能够代表该词语很关键\n",
    "\n",
    "计算公式：TF * IDF，其中：\n",
    "\n",
    "- TF(term frequency, TF)：词频，某一个给定词语word在文件中出现的次数，tf = (word在文档中出现的次数)/ (文档总词数)\n",
    "\n",
    "- IDF(inverse document frequency, IDF)：逆文件频率，idf = log(语料库的文档总数/(包含词语word的文档数量+1))\n",
    "\n",
    "**Syntax**\n",
    "\n",
    "`jieba.analyse.extract_tags(sentence, topK=20, withWeight=False, allowPOS=())`\n",
    "```\n",
    "sentence 为待提取的文本\n",
    "topK 为返回几个 TF/IDF 权重最大的关键词，默认值为 20\n",
    "withWeight 为是否一并返回关键词权重值，默认值为 False\n",
    "allowPOS 仅包括指定词性的词，默认值为空，即不筛选\n",
    "```"
   ]
  },
  {
   "cell_type": "code",
   "execution_count": 21,
   "metadata": {},
   "outputs": [
    {
     "name": "stdout",
     "output_type": "stream",
     "text": [
      "TF-IDF\n",
      "反转 0.41\n",
      "A股 0.41\n",
      "50% 0.41\n",
      "起点 0.39\n",
      "季度 0.33\n"
     ]
    }
   ],
   "source": [
    "import numpy as np\n",
    "# from jieba.analyse import *\n",
    "import jieba.analyse as analyse\n",
    "\n",
    "## 读取本地的文本文件\n",
    "with open('sample.txt', encoding='utf-8') as f:\n",
    "    data = f.read()\n",
    "    \n",
    "print('TF-IDF')\n",
    "for keyword, weight in analyse.extract_tags(data, topK=5, withWeight=True):\n",
    "    print('{} {}'.format(keyword, np.round(weight,2)))"
   ]
  },
  {
   "cell_type": "markdown",
   "metadata": {},
   "source": [
    "**基于 TextRank 算法的关键词提取**\n",
    "\n",
    "TextRank 是另一种关键词提取算法，基于大名鼎鼎的 PageRank，其原理可参见论文—— [TextRank: Bringing Order into Texts](http://web.eecs.umich.edu/~mihalcea/papers/mihalcea.emnlp04.pdf)\n",
    "\n",
    "基本思想：\n",
    "- 将待抽取关键词的文本进行分词\n",
    "- 以固定窗口大小(默认为5，通过span属性调整)中词之间的共现关系，构建图\n",
    "- 计算图中节点的PageRank，注意是无向带权图\n",
    "\n",
    "**Syntax**\n",
    "\n",
    "`jieba.analyse.textrank(sentence, topK=20, withWeight=False, allowPOS=('ns', 'n', 'vn', 'v'))`\n",
    "\n",
    "    注意在使用textrank算法进行关键词提取时默认过滤词性"
   ]
  },
  {
   "cell_type": "code",
   "execution_count": 20,
   "metadata": {},
   "outputs": [
    {
     "name": "stdout",
     "output_type": "stream",
     "text": [
      "TextRank\n",
      "银行 1.0\n",
      "起点 0.92\n",
      "反转 0.85\n",
      "处于 0.81\n",
      "季度 0.49\n"
     ]
    }
   ],
   "source": [
    "print('TextRank')\n",
    "for keyword, weight in analyse.textrank(data, topK=5, withWeight=True):\n",
    "    print('{} {}'.format(keyword, np.round(weight,2)))"
   ]
  },
  {
   "cell_type": "markdown",
   "metadata": {},
   "source": [
    "### SnowNLP\n",
    "\n",
    "SnowNLP是一个python写的类库，可以方便的处理中文文本内容，是受到了TextBlob的启发而写的。现在大部分的自然语言处理库基本都是针对英文的，SnowNLP是一个方便处理中文的类库。和TextBlob不同的是，SnowNLP没有用NLTK，所有的算法都由自己实现，并且自带一些训练好的字典。由于该程序处理的都是unicode编码，因此使用时请自行decode成unicode。\n",
    "\n",
    "具体参见https://github.com/isnowfy/snownlp\n",
    "\n",
    "安装：`pip install snownlp`\n",
    "\n",
    "功能：\n",
    "\n",
    "- 中文分词（Character-Based Generative Model）\n",
    "- 词性标注（TnT 3-gram 隐马）\n",
    "- 情感分析（现在训练数据主要是买卖东西时的评价，所以对其他的一些可能效果不是很好，待解决）\n",
    "- 文本分类（Naive Bayes）\n",
    "- 转换成拼音（Trie树实现的最大匹配）\n",
    "- 繁体转简体（Trie树实现的最大匹配）\n",
    "- 提取文本关键词（TextRank算法）\n",
    "- 提取文本摘要（TextRank算法）\n",
    "- Tokenization（分割成句子）\n",
    "- 文本相似（BM25）\n",
    "\n",
    "调用：\n",
    "\n",
    "`from snownlp import SnowNLP`  \n",
    "`s = SnowNLP(text)`\n",
    "```\n",
    "s.words         分词\n",
    "s.tags          词性标注\n",
    "s.sentiments    positive的概率\n",
    "s.sentences     分割句子\n",
    "s.keywords()    关键词\n",
    "s.summary()     摘要\n",
    "s.sim()         文本相似度\n",
    "```"
   ]
  },
  {
   "cell_type": "code",
   "execution_count": 22,
   "metadata": {},
   "outputs": [],
   "source": [
    "from snownlp import SnowNLP\n",
    "\n",
    "text1 = '中石化真心棒，我赚了好多钱'\n",
    "text2 = '这个股票简直烂到爆'\n",
    "\n",
    "s1 = SnowNLP(text1)\n",
    "s2 = SnowNLP(text2)"
   ]
  },
  {
   "cell_type": "code",
   "execution_count": 27,
   "metadata": {},
   "outputs": [
    {
     "name": "stdout",
     "output_type": "stream",
     "text": [
      "中石化真心棒，我赚了好多钱 0.796\n",
      "这个股票简直烂到爆 0.025\n"
     ]
    }
   ],
   "source": [
    "print(text1, round(SnowNLP(text1).sentiments, 3))\n",
    "print(text2, round(SnowNLP(text2).sentiments, 3))"
   ]
  },
  {
   "cell_type": "code",
   "execution_count": 32,
   "metadata": {},
   "outputs": [
    {
     "name": "stdout",
     "output_type": "stream",
     "text": [
      "TextRank with jieba:\n",
      "生物 1.0\n",
      "提出 0.82\n",
      "投资人 0.81\n",
      "公司 0.6\n",
      "管理层 0.57\n",
      "相信 0.51\n",
      "感情 0.51\n",
      "应该 0.45\n",
      "产品 0.39\n",
      "质疑 0.39\n",
      "\n",
      "\n",
      "Keywords with snownlp:\n",
      "['泽润', '卖', '生物', '投资人', '还', '管理层', '沃森', '提出', '公司', '14']\n",
      "\n",
      "\n",
      "Summary with snownlp:\n",
      "['“你们是主动卖泽润的还是泽润管理层逼迫你们卖的', '在“沃森生物转让泽润生物股权”的电话会上', '公司管理层的回答则是——“我们主动卖的']\n",
      "\n",
      "\n",
      "情感评分（0.6以上为积极，0.2以下为负面）： 0.0\n",
      "\n",
      "\n",
      "Sentence Sentiment with snownlp:\n",
      "12月5日14时30分 0.02\n",
      "在“沃森生物转让泽润生物股权”的电话会上 0.9\n",
      "沃森生物董事长李云春遭投资人猛烈炮轰 0.87\n",
      "除了质疑贱卖子公司 0.18\n",
      "投资人还提出公司应该停牌 0.36\n",
      "甚至提出向监管层举报 0.74\n",
      "“你们把我们这些炒股票的当傻子吗 0.36\n",
      "你看看万泰生物值多少钱 0.6\n",
      "你竟然卖的那么低 0.09\n",
      "你们这些人不相信因果报应吗 0.35\n",
      "” 0.53\n",
      "“你们是主动卖泽润的还是泽润管理层逼迫你们卖的 0.53\n",
      "” 0.53\n",
      "“泽润产品马上上市了 0.58\n",
      "可以自己造血了 0.75\n",
      "为什么要卖 0.39\n",
      "” 0.53\n",
      "对此 0.53\n",
      "公司管理层的回答则是——“我们主动卖的 0.03\n",
      "我们是专业的 0.6\n",
      "我们是对沃森倾注了感情的 0.78\n",
      "请相信我们” 0.29\n",
      "\n",
      "\n"
     ]
    }
   ],
   "source": [
    "import jieba.analyse as analyse\n",
    "from snownlp import SnowNLP\n",
    "\n",
    "text = '''12月5日14时30分，在“沃森生物转让泽润生物股权”的电话会上，沃森生物董事长李云春遭投资人猛烈炮轰。\n",
    "除了质疑贱卖子公司，投资人还提出公司应该停牌，甚至提出向监管层举报。\n",
    "“你们把我们这些炒股票的当傻子吗？你看看万泰生物值多少钱，你竟然卖的那么低！你们这些人不相信因果报应吗？”\n",
    "“你们是主动卖泽润的还是泽润管理层逼迫你们卖的？”\n",
    "“泽润产品马上上市了，可以自己造血了，为什么要卖？”\n",
    "对此，公司管理层的回答则是——“我们主动卖的，我们是专业的，我们是对沃森倾注了感情的，请相信我们”。'''\n",
    "\n",
    "## 使用jieba提取关键词\n",
    "print('TextRank with jieba:')\n",
    "for keyword, weight in analyse.textrank(text, topK=10, withWeight=True):\n",
    "    print('{} {}'.format(keyword, np.round(weight,2)))\n",
    "print('\\n')\n",
    "\n",
    "## 关键词\n",
    "print('Keywords with snownlp:')\n",
    "print(SnowNLP(text).keywords(10))\n",
    "print('\\n')\n",
    "\n",
    "## 摘要\n",
    "print('Summary with snownlp:')\n",
    "print(SnowNLP(text).summary(3))\n",
    "print('\\n')\n",
    "\n",
    "## 对整个文本进行情感分析\n",
    "s = SnowNLP(text)\n",
    "print(\"情感评分（0.6以上为积极，0.2以下为负面）：\", round(SnowNLP(text).sentiments,2))\n",
    "print('\\n')\n",
    "\n",
    "## 对单个句子进行情感分析\n",
    "print('Sentence Sentiment with snownlp:')\n",
    "for sentence in SnowNLP(text).sentences:\n",
    "    print(sentence, round(SnowNLP(sentence).sentiments,2))\n",
    "print('\\n')\n"
   ]
  },
  {
   "cell_type": "markdown",
   "metadata": {},
   "source": [
    "**Exercise：**\n",
    "\n",
    "从下述url中提取新闻标题信息，并计算每个标题的情感评分。并将新闻标题和情感评分的结果均保存至dataframe中。"
   ]
  },
  {
   "cell_type": "code",
   "execution_count": 3,
   "metadata": {
    "scrolled": true
   },
   "outputs": [
    {
     "data": {
      "text/html": [
       "<div>\n",
       "<style scoped>\n",
       "    .dataframe tbody tr th:only-of-type {\n",
       "        vertical-align: middle;\n",
       "    }\n",
       "\n",
       "    .dataframe tbody tr th {\n",
       "        vertical-align: top;\n",
       "    }\n",
       "\n",
       "    .dataframe thead th {\n",
       "        text-align: right;\n",
       "    }\n",
       "</style>\n",
       "<table border=\"1\" class=\"dataframe\">\n",
       "  <thead>\n",
       "    <tr style=\"text-align: right;\">\n",
       "      <th></th>\n",
       "      <th>news</th>\n",
       "      <th>sentiments</th>\n",
       "    </tr>\n",
       "  </thead>\n",
       "  <tbody>\n",
       "    <tr>\n",
       "      <th>0</th>\n",
       "      <td>2021年1月7日涨停板早知道：七大利好有望发酵</td>\n",
       "      <td>0.711221</td>\n",
       "    </tr>\n",
       "    <tr>\n",
       "      <th>1</th>\n",
       "      <td>2021年1月6日涨停板早知道：七大利好有望发酵</td>\n",
       "      <td>0.656330</td>\n",
       "    </tr>\n",
       "    <tr>\n",
       "      <th>2</th>\n",
       "      <td>央行等6部委发布跨境人民币优化政策 产业迎来增量红利(附股)</td>\n",
       "      <td>0.352927</td>\n",
       "    </tr>\n",
       "    <tr>\n",
       "      <th>3</th>\n",
       "      <td>春节不打烊：2021快递业务量预超千亿件 相关板块或收益(附股)</td>\n",
       "      <td>0.078384</td>\n",
       "    </tr>\n",
       "    <tr>\n",
       "      <th>4</th>\n",
       "      <td>2021年1月5日涨停板早知道：七大利好有望发酵</td>\n",
       "      <td>0.717254</td>\n",
       "    </tr>\n",
       "    <tr>\n",
       "      <th>5</th>\n",
       "      <td>新能源汽车行业将维持高歌猛进态势 ModelY价格下调催化投资机会</td>\n",
       "      <td>0.961431</td>\n",
       "    </tr>\n",
       "    <tr>\n",
       "      <th>6</th>\n",
       "      <td>新能源汽车动力电池回收利用或提速 关注相关个股(附股)</td>\n",
       "      <td>0.022063</td>\n",
       "    </tr>\n",
       "    <tr>\n",
       "      <th>7</th>\n",
       "      <td>快讯：东方日升、航发动力等股连续5天获融资净买入</td>\n",
       "      <td>0.995428</td>\n",
       "    </tr>\n",
       "    <tr>\n",
       "      <th>8</th>\n",
       "      <td>2021年1月4日涨停板早知道：七大利好有望发酵</td>\n",
       "      <td>0.675767</td>\n",
       "    </tr>\n",
       "    <tr>\n",
       "      <th>9</th>\n",
       "      <td>德冠新材IPO过会 禁塑令下毛利率落后同行、偿债压力在身</td>\n",
       "      <td>0.040690</td>\n",
       "    </tr>\n",
       "    <tr>\n",
       "      <th>10</th>\n",
       "      <td>瑞丽医美3天跌破发行价 活跃用户付费意愿下滑</td>\n",
       "      <td>0.416001</td>\n",
       "    </tr>\n",
       "    <tr>\n",
       "      <th>11</th>\n",
       "      <td>合力泰陷入合同纠纷 极力撇清与益丰泰关系 有何苦衷？</td>\n",
       "      <td>0.740515</td>\n",
       "    </tr>\n",
       "    <tr>\n",
       "      <th>12</th>\n",
       "      <td>锦泓集团前三季亏超9亿 公司四年前的收购到底划算吗？</td>\n",
       "      <td>0.988244</td>\n",
       "    </tr>\n",
       "    <tr>\n",
       "      <th>13</th>\n",
       "      <td>美盛文化：5天股价跌25% 实控人拟转让股权</td>\n",
       "      <td>0.634323</td>\n",
       "    </tr>\n",
       "    <tr>\n",
       "      <th>14</th>\n",
       "      <td>红塔证券筹谋配股却遭接连减持 因违规被监管层责令整改</td>\n",
       "      <td>0.514751</td>\n",
       "    </tr>\n",
       "    <tr>\n",
       "      <th>15</th>\n",
       "      <td>宁德时代市值一天涨700多亿 拟投资三个电池制造基地</td>\n",
       "      <td>0.990257</td>\n",
       "    </tr>\n",
       "    <tr>\n",
       "      <th>16</th>\n",
       "      <td>2020年12月31日涨停板早知道：七大利好有望发酵</td>\n",
       "      <td>0.789352</td>\n",
       "    </tr>\n",
       "    <tr>\n",
       "      <th>17</th>\n",
       "      <td>上海银行：前三季度频收罚单 业绩下滑不良攀升</td>\n",
       "      <td>0.491689</td>\n",
       "    </tr>\n",
       "    <tr>\n",
       "      <th>18</th>\n",
       "      <td>携程：三季度净营收下滑48% 后疫情下如何突围？</td>\n",
       "      <td>0.116046</td>\n",
       "    </tr>\n",
       "    <tr>\n",
       "      <th>19</th>\n",
       "      <td>泡泡玛特：上市半月即陷经营风波 股价4日大跌19%</td>\n",
       "      <td>0.459782</td>\n",
       "    </tr>\n",
       "    <tr>\n",
       "      <th>20</th>\n",
       "      <td>中国一半青少年近视 欧普康视高额利润能赚多久？</td>\n",
       "      <td>0.647007</td>\n",
       "    </tr>\n",
       "    <tr>\n",
       "      <th>21</th>\n",
       "      <td>*ST天夏存终止上市风险 被执行总金额超1.87亿</td>\n",
       "      <td>0.636267</td>\n",
       "    </tr>\n",
       "    <tr>\n",
       "      <th>22</th>\n",
       "      <td>2020年12月30日涨停板早知道：七大利好有望发酵</td>\n",
       "      <td>0.672372</td>\n",
       "    </tr>\n",
       "    <tr>\n",
       "      <th>23</th>\n",
       "      <td>2020年12月29日涨停板早知道：七大利好有望发酵</td>\n",
       "      <td>0.608482</td>\n",
       "    </tr>\n",
       "    <tr>\n",
       "      <th>24</th>\n",
       "      <td>中信证券：给予酒鬼酒目标价160元 上调至买入评级</td>\n",
       "      <td>0.951435</td>\n",
       "    </tr>\n",
       "    <tr>\n",
       "      <th>25</th>\n",
       "      <td>2020年12月28日涨停板早知道：七大利好有望发酵</td>\n",
       "      <td>0.665344</td>\n",
       "    </tr>\n",
       "    <tr>\n",
       "      <th>26</th>\n",
       "      <td>我国空间站核心舱明年春季发射 航天相关个股投资价值显现(附股)</td>\n",
       "      <td>0.999825</td>\n",
       "    </tr>\n",
       "    <tr>\n",
       "      <th>27</th>\n",
       "      <td>2020年12月25日涨停板早知道：七大利好有望发酵</td>\n",
       "      <td>0.692800</td>\n",
       "    </tr>\n",
       "    <tr>\n",
       "      <th>28</th>\n",
       "      <td>2020年12月24日涨停板早知道：七大利好有望发酵</td>\n",
       "      <td>0.691399</td>\n",
       "    </tr>\n",
       "    <tr>\n",
       "      <th>29</th>\n",
       "      <td>农业股尾盘快速拉升 机构认为种植产业链投资机会来了</td>\n",
       "      <td>0.892119</td>\n",
       "    </tr>\n",
       "    <tr>\n",
       "      <th>30</th>\n",
       "      <td>2020年12月23日涨停板早知道：七大利好有望发酵</td>\n",
       "      <td>0.683400</td>\n",
       "    </tr>\n",
       "    <tr>\n",
       "      <th>31</th>\n",
       "      <td>非银金融板块加速走弱 机构认为后续上涨动能充足(附股)</td>\n",
       "      <td>0.632900</td>\n",
       "    </tr>\n",
       "    <tr>\n",
       "      <th>32</th>\n",
       "      <td>3大概念爆巨大利好：国新办重磅发布白皮书 或引领市场关注这些股</td>\n",
       "      <td>0.418353</td>\n",
       "    </tr>\n",
       "    <tr>\n",
       "      <th>33</th>\n",
       "      <td>2020年12月22日涨停板早知道：七大利好有望发酵</td>\n",
       "      <td>0.746351</td>\n",
       "    </tr>\n",
       "    <tr>\n",
       "      <th>34</th>\n",
       "      <td>2020年12月21日涨停板早知道：七大利好有望发酵</td>\n",
       "      <td>0.569358</td>\n",
       "    </tr>\n",
       "    <tr>\n",
       "      <th>35</th>\n",
       "      <td>2020年12月18日涨停板早知道：七大利好有望发酵</td>\n",
       "      <td>0.782495</td>\n",
       "    </tr>\n",
       "    <tr>\n",
       "      <th>36</th>\n",
       "      <td>2020年12月17日涨停板早知道：七大利好有望发酵</td>\n",
       "      <td>0.687285</td>\n",
       "    </tr>\n",
       "    <tr>\n",
       "      <th>37</th>\n",
       "      <td>2020年12月16日涨停板早知道：七大利好有望发酵</td>\n",
       "      <td>0.543747</td>\n",
       "    </tr>\n",
       "    <tr>\n",
       "      <th>38</th>\n",
       "      <td>2020年12月15日涨停板早知道：七大利好有望发酵</td>\n",
       "      <td>0.646062</td>\n",
       "    </tr>\n",
       "    <tr>\n",
       "      <th>39</th>\n",
       "      <td>2020年12月14日涨停板早知道：七大利好有望发酵</td>\n",
       "      <td>0.664894</td>\n",
       "    </tr>\n",
       "    <tr>\n",
       "      <th>40</th>\n",
       "      <td>白酒、铁矿石、金融行情已轮番启动 三位一体补涨个股竟然是它</td>\n",
       "      <td>0.663669</td>\n",
       "    </tr>\n",
       "    <tr>\n",
       "      <th>41</th>\n",
       "      <td>2020年A股“戏精”排行榜：扇贝、李鬼、还有神笔马良</td>\n",
       "      <td>0.343140</td>\n",
       "    </tr>\n",
       "    <tr>\n",
       "      <th>42</th>\n",
       "      <td>34只创业板股最新筹码集中 4股股东户数降一成</td>\n",
       "      <td>0.046917</td>\n",
       "    </tr>\n",
       "    <tr>\n",
       "      <th>43</th>\n",
       "      <td>AI大潮将来袭：人工智能多领域应用 哪些产业链值得关注？(股)</td>\n",
       "      <td>0.982234</td>\n",
       "    </tr>\n",
       "    <tr>\n",
       "      <th>44</th>\n",
       "      <td>煤炭行业景气度稳中向好 机构：板块具备较大的估值修复空间</td>\n",
       "      <td>0.525230</td>\n",
       "    </tr>\n",
       "  </tbody>\n",
       "</table>\n",
       "</div>"
      ],
      "text/plain": [
       "                                 news  sentiments\n",
       "0            2021年1月7日涨停板早知道：七大利好有望发酵    0.711221\n",
       "1            2021年1月6日涨停板早知道：七大利好有望发酵    0.656330\n",
       "2      央行等6部委发布跨境人民币优化政策 产业迎来增量红利(附股)    0.352927\n",
       "3    春节不打烊：2021快递业务量预超千亿件 相关板块或收益(附股)    0.078384\n",
       "4            2021年1月5日涨停板早知道：七大利好有望发酵    0.717254\n",
       "5   新能源汽车行业将维持高歌猛进态势 ModelY价格下调催化投资机会    0.961431\n",
       "6         新能源汽车动力电池回收利用或提速 关注相关个股(附股)    0.022063\n",
       "7            快讯：东方日升、航发动力等股连续5天获融资净买入    0.995428\n",
       "8            2021年1月4日涨停板早知道：七大利好有望发酵    0.675767\n",
       "9        德冠新材IPO过会 禁塑令下毛利率落后同行、偿债压力在身    0.040690\n",
       "10             瑞丽医美3天跌破发行价 活跃用户付费意愿下滑    0.416001\n",
       "11         合力泰陷入合同纠纷 极力撇清与益丰泰关系 有何苦衷？    0.740515\n",
       "12         锦泓集团前三季亏超9亿 公司四年前的收购到底划算吗？    0.988244\n",
       "13             美盛文化：5天股价跌25% 实控人拟转让股权    0.634323\n",
       "14         红塔证券筹谋配股却遭接连减持 因违规被监管层责令整改    0.514751\n",
       "15         宁德时代市值一天涨700多亿 拟投资三个电池制造基地    0.990257\n",
       "16         2020年12月31日涨停板早知道：七大利好有望发酵    0.789352\n",
       "17             上海银行：前三季度频收罚单 业绩下滑不良攀升    0.491689\n",
       "18           携程：三季度净营收下滑48% 后疫情下如何突围？    0.116046\n",
       "19          泡泡玛特：上市半月即陷经营风波 股价4日大跌19%    0.459782\n",
       "20            中国一半青少年近视 欧普康视高额利润能赚多久？    0.647007\n",
       "21          *ST天夏存终止上市风险 被执行总金额超1.87亿    0.636267\n",
       "22         2020年12月30日涨停板早知道：七大利好有望发酵    0.672372\n",
       "23         2020年12月29日涨停板早知道：七大利好有望发酵    0.608482\n",
       "24          中信证券：给予酒鬼酒目标价160元 上调至买入评级    0.951435\n",
       "25         2020年12月28日涨停板早知道：七大利好有望发酵    0.665344\n",
       "26    我国空间站核心舱明年春季发射 航天相关个股投资价值显现(附股)    0.999825\n",
       "27         2020年12月25日涨停板早知道：七大利好有望发酵    0.692800\n",
       "28         2020年12月24日涨停板早知道：七大利好有望发酵    0.691399\n",
       "29          农业股尾盘快速拉升 机构认为种植产业链投资机会来了    0.892119\n",
       "30         2020年12月23日涨停板早知道：七大利好有望发酵    0.683400\n",
       "31        非银金融板块加速走弱 机构认为后续上涨动能充足(附股)    0.632900\n",
       "32    3大概念爆巨大利好：国新办重磅发布白皮书 或引领市场关注这些股    0.418353\n",
       "33         2020年12月22日涨停板早知道：七大利好有望发酵    0.746351\n",
       "34         2020年12月21日涨停板早知道：七大利好有望发酵    0.569358\n",
       "35         2020年12月18日涨停板早知道：七大利好有望发酵    0.782495\n",
       "36         2020年12月17日涨停板早知道：七大利好有望发酵    0.687285\n",
       "37         2020年12月16日涨停板早知道：七大利好有望发酵    0.543747\n",
       "38         2020年12月15日涨停板早知道：七大利好有望发酵    0.646062\n",
       "39         2020年12月14日涨停板早知道：七大利好有望发酵    0.664894\n",
       "40      白酒、铁矿石、金融行情已轮番启动 三位一体补涨个股竟然是它    0.663669\n",
       "41        2020年A股“戏精”排行榜：扇贝、李鬼、还有神笔马良    0.343140\n",
       "42            34只创业板股最新筹码集中 4股股东户数降一成    0.046917\n",
       "43    AI大潮将来袭：人工智能多领域应用 哪些产业链值得关注？(股)    0.982234\n",
       "44       煤炭行业景气度稳中向好 机构：板块具备较大的估值修复空间    0.525230"
      ]
     },
     "execution_count": 3,
     "metadata": {},
     "output_type": "execute_result"
    }
   ],
   "source": [
    "import requests\n",
    "from bs4 import  BeautifulSoup\n",
    "import re\n",
    "import numpy as np\n",
    "import pandas as pd\n",
    "\n",
    "def request_url(url):\n",
    "    user_agent = 'Mozilla/5.0 (Windows NT 10.0; Win64; x64) AppleWebKit/537.36 (KHTML, like Gecko) Chrome/59.0.3071.109 Safari/537.36'\n",
    "    headers = {'User-Agent': user_agent} \n",
    "    \n",
    "    res = requests.get(url,headers=headers)\n",
    "    res.encoding = 'utf-8'\n",
    "    return res.text\n",
    "\n",
    "url = 'https://finance.sina.com.cn/roll/index.d.html?cid=56588&page=1'\n",
    "\n"
   ]
  },
  {
   "cell_type": "markdown",
   "metadata": {},
   "source": [
    "**Exercise:**\n",
    "\n",
    "补全下述代码：\n",
    "1. 读取本地的'sina_fin_news.csv'文件（可从github上下载）\n",
    "2. 计算了每个新闻的情感评分\n",
    "3. 计算每一天的情感评分的均值并按目标格式输出\n"
   ]
  },
  {
   "cell_type": "code",
   "execution_count": 1,
   "metadata": {},
   "outputs": [
    {
     "data": {
      "text/html": [
       "<div>\n",
       "<style scoped>\n",
       "    .dataframe tbody tr th:only-of-type {\n",
       "        vertical-align: middle;\n",
       "    }\n",
       "\n",
       "    .dataframe tbody tr th {\n",
       "        vertical-align: top;\n",
       "    }\n",
       "\n",
       "    .dataframe thead th {\n",
       "        text-align: right;\n",
       "    }\n",
       "</style>\n",
       "<table border=\"1\" class=\"dataframe\">\n",
       "  <thead>\n",
       "    <tr style=\"text-align: right;\">\n",
       "      <th></th>\n",
       "      <th>id</th>\n",
       "      <th>news</th>\n",
       "      <th>date</th>\n",
       "      <th>status</th>\n",
       "    </tr>\n",
       "  </thead>\n",
       "  <tbody>\n",
       "    <tr>\n",
       "      <th>0</th>\n",
       "      <td>99</td>\n",
       "      <td>英国4月零售物价指数年率+2.5%，预期+2.6%，前值+2.5%；月率+0.4%，预期+0...</td>\n",
       "      <td>2014/5/20</td>\n",
       "      <td>0.069470</td>\n",
       "    </tr>\n",
       "    <tr>\n",
       "      <th>1</th>\n",
       "      <td>98</td>\n",
       "      <td>英国4月核心CPI年率+2.0%，创2013年9月以来最大升幅，预期+1.8%，前值+1.6...</td>\n",
       "      <td>2014/5/20</td>\n",
       "      <td>0.795471</td>\n",
       "    </tr>\n",
       "    <tr>\n",
       "      <th>2</th>\n",
       "      <td>97</td>\n",
       "      <td>英国3月DCLG房价指数年率+8.0%，预期+9.6%，前值+9.1%。</td>\n",
       "      <td>2014/5/20</td>\n",
       "      <td>0.541969</td>\n",
       "    </tr>\n",
       "    <tr>\n",
       "      <th>3</th>\n",
       "      <td>96</td>\n",
       "      <td>英国4月生产者输入物价指数月率-1.1%，预期-0.2%，前值-0.4%；年率-5.5%，预...</td>\n",
       "      <td>2014/5/20</td>\n",
       "      <td>0.057408</td>\n",
       "    </tr>\n",
       "    <tr>\n",
       "      <th>4</th>\n",
       "      <td>95</td>\n",
       "      <td>据世界黄金协会最新黄金需求趋势报告，一季度金条金币需求同比重挫39%至283吨，为四年来最低水平。</td>\n",
       "      <td>2014/5/20</td>\n",
       "      <td>0.999945</td>\n",
       "    </tr>\n",
       "    <tr>\n",
       "      <th>...</th>\n",
       "      <td>...</td>\n",
       "      <td>...</td>\n",
       "      <td>...</td>\n",
       "      <td>...</td>\n",
       "    </tr>\n",
       "    <tr>\n",
       "      <th>995</th>\n",
       "      <td>4</td>\n",
       "      <td>在圣彼得堡国际经济论坛上，道达尔CEO马哲睿(christophe de Margerie)...</td>\n",
       "      <td>2014/5/25</td>\n",
       "      <td>0.823601</td>\n",
       "    </tr>\n",
       "    <tr>\n",
       "      <th>996</th>\n",
       "      <td>3</td>\n",
       "      <td>雷石东(Sumner Redstone)过去约一周中出售2.36亿美元维亚康姆(VIA)和C...</td>\n",
       "      <td>2014/5/25</td>\n",
       "      <td>0.675677</td>\n",
       "    </tr>\n",
       "    <tr>\n",
       "      <th>997</th>\n",
       "      <td>2</td>\n",
       "      <td>苹果谋求禁止销售三星9款较老机型。此前苹果(AAPL)在美赢得一桩诉讼，裁决认定三星侵犯苹果...</td>\n",
       "      <td>2014/5/25</td>\n",
       "      <td>0.999985</td>\n",
       "    </tr>\n",
       "    <tr>\n",
       "      <th>998</th>\n",
       "      <td>1</td>\n",
       "      <td>郑商所期货与衍生品部总监左宏亮25日在“第九届中国期货暨衍生品市场论坛”上表示，从目前的郑商...</td>\n",
       "      <td>2014/5/25</td>\n",
       "      <td>0.892710</td>\n",
       "    </tr>\n",
       "    <tr>\n",
       "      <th>999</th>\n",
       "      <td>0</td>\n",
       "      <td>中金所期货小组成员刘炜亮25日在“第九届中国期货暨衍生品市场论坛”上表示，做市商不是期权推出...</td>\n",
       "      <td>2014/5/25</td>\n",
       "      <td>0.606726</td>\n",
       "    </tr>\n",
       "  </tbody>\n",
       "</table>\n",
       "<p>1000 rows × 4 columns</p>\n",
       "</div>"
      ],
      "text/plain": [
       "     id                                               news       date  \\\n",
       "0    99  英国4月零售物价指数年率+2.5%，预期+2.6%，前值+2.5%；月率+0.4%，预期+0...  2014/5/20   \n",
       "1    98  英国4月核心CPI年率+2.0%，创2013年9月以来最大升幅，预期+1.8%，前值+1.6...  2014/5/20   \n",
       "2    97               英国3月DCLG房价指数年率+8.0%，预期+9.6%，前值+9.1%。  2014/5/20   \n",
       "3    96  英国4月生产者输入物价指数月率-1.1%，预期-0.2%，前值-0.4%；年率-5.5%，预...  2014/5/20   \n",
       "4    95  据世界黄金协会最新黄金需求趋势报告，一季度金条金币需求同比重挫39%至283吨，为四年来最低水平。  2014/5/20   \n",
       "..   ..                                                ...        ...   \n",
       "995   4  在圣彼得堡国际经济论坛上，道达尔CEO马哲睿(christophe de Margerie)...  2014/5/25   \n",
       "996   3  雷石东(Sumner Redstone)过去约一周中出售2.36亿美元维亚康姆(VIA)和C...  2014/5/25   \n",
       "997   2  苹果谋求禁止销售三星9款较老机型。此前苹果(AAPL)在美赢得一桩诉讼，裁决认定三星侵犯苹果...  2014/5/25   \n",
       "998   1  郑商所期货与衍生品部总监左宏亮25日在“第九届中国期货暨衍生品市场论坛”上表示，从目前的郑商...  2014/5/25   \n",
       "999   0  中金所期货小组成员刘炜亮25日在“第九届中国期货暨衍生品市场论坛”上表示，做市商不是期权推出...  2014/5/25   \n",
       "\n",
       "       status  \n",
       "0    0.069470  \n",
       "1    0.795471  \n",
       "2    0.541969  \n",
       "3    0.057408  \n",
       "4    0.999945  \n",
       "..        ...  \n",
       "995  0.823601  \n",
       "996  0.675677  \n",
       "997  0.999985  \n",
       "998  0.892710  \n",
       "999  0.606726  \n",
       "\n",
       "[1000 rows x 4 columns]"
      ]
     },
     "execution_count": 1,
     "metadata": {},
     "output_type": "execute_result"
    }
   ],
   "source": [
    "from snownlp import SnowNLP\n",
    "import pandas as pd\n",
    "\n",
    "sina_news = pd.read_csv('sina_fin_news.csv', encoding = 'ansi')\n"
   ]
  },
  {
   "cell_type": "markdown",
   "metadata": {},
   "source": [
    "补全下述代码，筛选正面情感评分大于0.6或负面情感评分小于0.2的状态，令目标输出如下："
   ]
  },
  {
   "cell_type": "code",
   "execution_count": 5,
   "metadata": {},
   "outputs": [
    {
     "data": {
      "text/html": [
       "<div>\n",
       "<style scoped>\n",
       "    .dataframe tbody tr th:only-of-type {\n",
       "        vertical-align: middle;\n",
       "    }\n",
       "\n",
       "    .dataframe tbody tr th {\n",
       "        vertical-align: top;\n",
       "    }\n",
       "\n",
       "    .dataframe thead th {\n",
       "        text-align: right;\n",
       "    }\n",
       "</style>\n",
       "<table border=\"1\" class=\"dataframe\">\n",
       "  <thead>\n",
       "    <tr style=\"text-align: right;\">\n",
       "      <th></th>\n",
       "      <th>status</th>\n",
       "      <th>three</th>\n",
       "    </tr>\n",
       "    <tr>\n",
       "      <th>date</th>\n",
       "      <th></th>\n",
       "      <th></th>\n",
       "    </tr>\n",
       "  </thead>\n",
       "  <tbody>\n",
       "    <tr>\n",
       "      <th>2014/5/20</th>\n",
       "      <td>0.571854</td>\n",
       "      <td>None</td>\n",
       "    </tr>\n",
       "    <tr>\n",
       "      <th>2014/5/21</th>\n",
       "      <td>0.651911</td>\n",
       "      <td>Pos</td>\n",
       "    </tr>\n",
       "    <tr>\n",
       "      <th>2014/5/22</th>\n",
       "      <td>0.614585</td>\n",
       "      <td>Pos</td>\n",
       "    </tr>\n",
       "    <tr>\n",
       "      <th>2014/5/23</th>\n",
       "      <td>0.656650</td>\n",
       "      <td>Pos</td>\n",
       "    </tr>\n",
       "    <tr>\n",
       "      <th>2014/5/24</th>\n",
       "      <td>0.735881</td>\n",
       "      <td>Pos</td>\n",
       "    </tr>\n",
       "    <tr>\n",
       "      <th>2014/5/25</th>\n",
       "      <td>0.788533</td>\n",
       "      <td>Pos</td>\n",
       "    </tr>\n",
       "  </tbody>\n",
       "</table>\n",
       "</div>"
      ],
      "text/plain": [
       "             status three\n",
       "date                     \n",
       "2014/5/20  0.571854  None\n",
       "2014/5/21  0.651911   Pos\n",
       "2014/5/22  0.614585   Pos\n",
       "2014/5/23  0.656650   Pos\n",
       "2014/5/24  0.735881   Pos\n",
       "2014/5/25  0.788533   Pos"
      ]
     },
     "execution_count": 5,
     "metadata": {},
     "output_type": "execute_result"
    }
   ],
   "source": [
    "s_news = sina_news.groupby('date').mean()['status'].to_frame()\n"
   ]
  },
  {
   "cell_type": "markdown",
   "metadata": {},
   "source": [
    "#### 小结\n",
    "\n",
    "这一部分的重点为使用三个nlp工具包：\n",
    "\n",
    "- 百度lac：实现分词/词性标注/实体识别\n",
    "- jieba：实现分词/词性标注/关键词提取，需要了解两种关键词提取的算法差别\n",
    "- snownlp：实现分词/分句/情感分析"
   ]
  },
  {
   "cell_type": "code",
   "execution_count": null,
   "metadata": {},
   "outputs": [],
   "source": []
  }
 ],
 "metadata": {
  "kernelspec": {
   "display_name": "Python 3",
   "language": "python",
   "name": "python3"
  },
  "language_info": {
   "codemirror_mode": {
    "name": "ipython",
    "version": 3
   },
   "file_extension": ".py",
   "mimetype": "text/x-python",
   "name": "python",
   "nbconvert_exporter": "python",
   "pygments_lexer": "ipython3",
   "version": "3.7.9"
  }
 },
 "nbformat": 4,
 "nbformat_minor": 4
}
