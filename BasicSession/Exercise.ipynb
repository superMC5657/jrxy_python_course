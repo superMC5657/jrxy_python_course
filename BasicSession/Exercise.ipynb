{
 "cells": [
  {
   "cell_type": "markdown",
   "metadata": {},
   "source": [
    "### 练习\n",
    "\n",
    "+ 创建一个10x10的ndarray对象，且矩阵边界全为1，里面全为0\n",
    "\n",
    "+ 创建一个每一行都是从0到4的5x5矩阵\n",
    "\n",
    "+ 创建一个长度为10的随机数组并将最大值替换为0\n",
    "   \n",
    "+ 随机生成长度为10的数组，并在这个数组的每个元素之间插入3个0，得到一个新数组"
   ]
  },
  {
   "cell_type": "code",
   "execution_count": null,
   "metadata": {},
   "outputs": [],
   "source": []
  }
 ],
 "metadata": {
  "kernelspec": {
   "display_name": "Python 3",
   "language": "python",
   "name": "python3"
  },
  "language_info": {
   "codemirror_mode": {
    "name": "ipython",
    "version": 3
   },
   "file_extension": ".py",
   "mimetype": "text/x-python",
   "name": "python",
   "nbconvert_exporter": "python",
   "pygments_lexer": "ipython3",
   "version": "3.7.9"
  }
 },
 "nbformat": 4,
 "nbformat_minor": 4
}
