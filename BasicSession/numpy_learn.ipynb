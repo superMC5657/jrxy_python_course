{
 "cells": [
  {
   "cell_type": "markdown",
   "metadata": {},
   "source": [
    "### Numpy\n",
    "\n",
    "NumPy(Numerical Python) 是 Python 语言的一个扩展程序库，支持大量的维度数组与矩阵运算，此外也针对数组运算提供大量的数学函数库。\n",
    "\n",
    "NumPy 的前身 Numeric 最早是由 Jim Hugunin 与其它协作者共同开发，2005 年，Travis Oliphant 在 Numeric 中结合了另一个同性质的程序库 Numarray 的特色，并加入了其它扩展而开发了 NumPy。NumPy 为开放源代码并且由许多协作者共同维护开发。\n",
    "\n",
    "NumPy 是一个运行速度非常快的数学库，主要用于数组计算，包含：\n",
    "- 一个强大的N维数组对象 ndarray\n",
    "- 广播功能函数\n",
    "- 整合 C/C++/Fortran 代码的工具\n",
    "- 线性代数、傅里叶变换、随机数生成等功能\n",
    "\n",
    "#### Numpy 教程\n",
    "\n",
    "- 官方教程 （英文） https://numpy.org/doc/stable/user/quickstart.html\n",
    "- Numpy中文网  https://www.numpy.org.cn/\n",
    "- Numpy 菜鸟教程 https://www.runoob.com/numpy/numpy-tutorial.html\n",
    "\n",
    "#### Numpy的引用"
   ]
  },
  {
   "cell_type": "code",
   "execution_count": 1,
   "metadata": {
    "scrolled": true
   },
   "outputs": [
    {
     "data": {
      "text/plain": [
       "'1.19.2'"
      ]
     },
     "execution_count": 1,
     "metadata": {},
     "output_type": "execute_result"
    }
   ],
   "source": [
    "import numpy as np   # 导入numpy模块\n",
    "np.__version__"
   ]
  },
  {
   "cell_type": "markdown",
   "metadata": {},
   "source": [
    "#### Numpy的Ndarray对象\n",
    "\n",
    ">Python已有列表类型，为什么需要一个数组对象(类型)？\n",
    "\n",
    "    数组对象可以去掉元素间运算所需的循环，使一维向量更像单个数据\n",
    "    设置专门的数组对象，经过优化，可以提升这类应用的运算速度\n",
    "    数组对象采用相同的数据类型，有助于节省运算和存储空间\n",
    "\n",
    "N维数组对象——ndarray，是一系列**同类型数据**的集合，以**0为开始下标**进行集合中元素的索引。\n",
    "\n",
    "创建一个ndarray对象，可以调用numpy的array函数：  \n",
    "`numpy.array(object, dtype = None, copy = True, order = None, subok = False, ndmin = 0)`  \n",
    "object：通常为list或tuple  \n",
    "dtype：数组元素的数据类型，可选  \n",
    "copy：对象是否需要复制，可选  \n"
   ]
  },
  {
   "cell_type": "markdown",
   "metadata": {},
   "source": [
    "#### 数组的属性\n",
    "\n",
    "轴(axis): 保存数据的维度；秩(rank)：轴的数量。  \n",
    "很多时候可以声明 axis。axis=0，表示沿着第0轴进行操作，即对每一列进行操作；axis=1，表示沿着第1轴进行操作，即对每一行进行操作。\n",
    "\n",
    "比较重要的ndarray对象属性有：\n",
    "```\n",
    "ndarray.ndim：秩，即轴的数量或维度的数量\n",
    "ndarray.shape：数组的维度，对于矩阵，n行m列\n",
    "ndarray.size：数组元素的总个数，相当于 .shape 中 n*m的值\n",
    "ndarray.dtype：ndarray对象的元素类型\n",
    "```"
   ]
  },
  {
   "cell_type": "code",
   "execution_count": 56,
   "metadata": {},
   "outputs": [
    {
     "name": "stdout",
     "output_type": "stream",
     "text": [
      "[[ 0  1  2  3  4]\n",
      " [ 5  6  7  8  9]\n",
      " [10 11 12 13 14]\n",
      " [15 16 17 18 19]]\n"
     ]
    }
   ],
   "source": [
    "import numpy as np\n",
    "# 创建数组\n",
    "a = np.array(range(20))\n",
    "# 修改数组形状，将数据调整成 4 * 5 的维度\n",
    "a = a.reshape(4,5)\n",
    "print(a)"
   ]
  },
  {
   "cell_type": "code",
   "execution_count": 57,
   "metadata": {},
   "outputs": [
    {
     "data": {
      "text/plain": [
       "2"
      ]
     },
     "execution_count": 57,
     "metadata": {},
     "output_type": "execute_result"
    }
   ],
   "source": [
    "a.ndim  # 查看秩，即轴的数量或维度的数量"
   ]
  },
  {
   "cell_type": "code",
   "execution_count": 58,
   "metadata": {},
   "outputs": [
    {
     "data": {
      "text/plain": [
       "(4, 5)"
      ]
     },
     "execution_count": 58,
     "metadata": {},
     "output_type": "execute_result"
    }
   ],
   "source": [
    "a.shape  # 查看数组的维度，对于矩阵，n 行 m 列"
   ]
  },
  {
   "cell_type": "code",
   "execution_count": 59,
   "metadata": {},
   "outputs": [
    {
     "data": {
      "text/plain": [
       "20"
      ]
     },
     "execution_count": 59,
     "metadata": {},
     "output_type": "execute_result"
    }
   ],
   "source": [
    "a.size  # 查看数组元素的总个数，相当于 .shape 中 n*m 的值"
   ]
  },
  {
   "cell_type": "markdown",
   "metadata": {},
   "source": [
    "#### 数组的创建\n",
    "\n",
    "- 从Python中的列表、元组等类型创建ndarray数组：`np.array(list/tuple)`\n",
    "- 使用NumPy中的函数创建ndarray数组\n",
    "    - 创建特定的数组  \n",
    "    ```\n",
    "    np.zeros(shape)：根据shape生成一个全0数组  \n",
    "    np.ones(shape)：根据shape生成一个全1数组  \n",
    "    np.full(shape, val)：根据shape生成一个数组，每个元素值都是val  \n",
    "    np.eye(n)：创建一个n*n单位矩阵，对角线为1，其余为0\n",
    "    ```\n",
    "    - 从数值范围创建数组（等差数列、等比数列）  \n",
    "    ```\n",
    "    np.arange(start=起始值(默认为0), stop=终止值(不包含), step=步长(默认为1), dtype)\n",
    "    np.linspace(start, stop, num=样本数量)：\n",
    "    np.logspace(start, stop, num=样本数量, base=对数log的底数)：\n",
    "    ```\n",
    "    - 从已有数组对象创建数组\n",
    "    ```\n",
    "    np.concatenate()：将两个或多个数组合并成一个新的数组\n",
    "    \n",
    "    ```"
   ]
  },
  {
   "cell_type": "code",
   "execution_count": 47,
   "metadata": {},
   "outputs": [
    {
     "name": "stdout",
     "output_type": "stream",
     "text": [
      "[0. 0. 0. 0. 0.]\n",
      "[[1 1]\n",
      " [1 1]\n",
      " [1 1]]\n"
     ]
    }
   ],
   "source": [
    "# 生成全零或者全一矩阵\n",
    "# 默认为浮点数\n",
    "zeros = np.zeros(5)\n",
    "print(zeros)\n",
    "\n",
    "# 设置类型为整数\n",
    "ones = np.ones([3,2], dtype = int)\n",
    "print(ones)"
   ]
  },
  {
   "cell_type": "code",
   "execution_count": 48,
   "metadata": {},
   "outputs": [
    {
     "name": "stdout",
     "output_type": "stream",
     "text": [
      "<class 'list'>\n",
      "<class 'numpy.ndarray'>\n",
      "<class 'tuple'>\n",
      "<class 'numpy.ndarray'>\n"
     ]
    }
   ],
   "source": [
    "# 将list/tuple转成ndarray，调用array/asarray函数即可\n",
    "ones = [1,2,3,4,5]\n",
    "print(type(ones))\n",
    "\n",
    "ones1 = np.array(ones)\n",
    "print(type(ones1))\n",
    "\n",
    "ones = (1,2,3,4,5)\n",
    "print(type(ones))\n",
    "\n",
    "ones2 = np.asarray(ones)\n",
    "print(type(ones2))"
   ]
  },
  {
   "cell_type": "code",
   "execution_count": 49,
   "metadata": {},
   "outputs": [
    {
     "name": "stdout",
     "output_type": "stream",
     "text": [
      "[0 1 2 3 4]\n"
     ]
    },
    {
     "data": {
      "text/plain": [
       "dtype('int32')"
      ]
     },
     "execution_count": 49,
     "metadata": {},
     "output_type": "execute_result"
    }
   ],
   "source": [
    "# 从数值范围创建数组,数组是一个等差数列构成的\n",
    "# np.arange(start, stop, step, dtype)\n",
    "\n",
    "x = np.arange(5)  \n",
    "print (x)\n",
    "x.dtype"
   ]
  },
  {
   "cell_type": "code",
   "execution_count": 50,
   "metadata": {},
   "outputs": [
    {
     "name": "stdout",
     "output_type": "stream",
     "text": [
      "[10. 12. 14. 16. 18.]\n"
     ]
    },
    {
     "data": {
      "text/plain": [
       "dtype('float64')"
      ]
     },
     "execution_count": 50,
     "metadata": {},
     "output_type": "execute_result"
    }
   ],
   "source": [
    "# 设置dtype\n",
    "x = np.arange(10, 20, 2, dtype = float)  \n",
    "print(x)\n",
    "x.dtype"
   ]
  },
  {
   "cell_type": "code",
   "execution_count": 51,
   "metadata": {},
   "outputs": [
    {
     "name": "stdout",
     "output_type": "stream",
     "text": [
      "[ 5  6  8 10 11 13 15 16 18 20]\n"
     ]
    },
    {
     "data": {
      "text/plain": [
       "dtype('int32')"
      ]
     },
     "execution_count": 51,
     "metadata": {},
     "output_type": "execute_result"
    }
   ],
   "source": [
    "# numpy.linspace 函数用于创建一个一维数组，数组是一个等差数列构成的。\n",
    "# np.linspace(start, stop, num=50, dtype=None)\n",
    "x = np.linspace(5, 20, num = 10, dtype = int)  \n",
    "print(x)\n",
    "x.dtype"
   ]
  },
  {
   "cell_type": "code",
   "execution_count": 52,
   "metadata": {},
   "outputs": [
    {
     "name": "stdout",
     "output_type": "stream",
     "text": [
      "[  1.           4.75682846  22.627417   107.63474115 512.        ]\n"
     ]
    },
    {
     "data": {
      "text/plain": [
       "dtype('float64')"
      ]
     },
     "execution_count": 52,
     "metadata": {},
     "output_type": "execute_result"
    }
   ],
   "source": [
    "# np.logspace 函数用于创建一个于等比数列, base 参数意思是取对数的时候 log 的底数\n",
    "# np.logspace(start, stop, num=50, base=10.0, dtype=None)\n",
    "x = np.logspace(0, 9, num = 5, base=2, dtype = float)\n",
    "print(x)\n",
    "x.dtype"
   ]
  },
  {
   "cell_type": "markdown",
   "metadata": {},
   "source": [
    "**Exercise：**\n",
    "\n",
    "    自行练习并掌握np.concatenate()函数的用法。例如：任意选择上面的两种创建数组的方法创建数组并连接它们，注意被连接的数组的维度对连接结果的影响。"
   ]
  },
  {
   "cell_type": "markdown",
   "metadata": {},
   "source": [
    "#### 一些常用的数组操作\n",
    "\n",
    "ndarray数组的维度变换：\n",
    "```\n",
    ".reshape(shape)：不改变数组元素，返回一个shape形状的数组，原数组不变  \n",
    ".flatten()：对数组进行降维，返回展开后的一维数组，原数组不变  \n",
    ".transpose()/.T：转置，对换数组的维度\n",
    "```\n",
    "ndarray数组的类型变换：\n",
    "`new_a = a.astype(new_type)`\n",
    "\n",
    "ndarray数组向列表的转换：\n",
    "`ls = a.tolist()`"
   ]
  },
  {
   "cell_type": "code",
   "execution_count": 60,
   "metadata": {},
   "outputs": [
    {
     "name": "stdout",
     "output_type": "stream",
     "text": [
      "原数组\n",
      "[ 0  1  2  3  4  5  6  7  8  9 10 11 12 13 14 15 16 17 18 19 20 21 22 23\n",
      " 24 25 26 27 28 29]\n",
      "修改数组形状\n",
      "[[ 0  1  2  3  4]\n",
      " [ 5  6  7  8  9]\n",
      " [10 11 12 13 14]\n",
      " [15 16 17 18 19]\n",
      " [20 21 22 23 24]\n",
      " [25 26 27 28 29]]\n",
      "转置数组\n",
      "[[ 0  5 10 15 20 25]\n",
      " [ 1  6 11 16 21 26]\n",
      " [ 2  7 12 17 22 27]\n",
      " [ 3  8 13 18 23 28]\n",
      " [ 4  9 14 19 24 29]]\n",
      "展开为一维数组\n",
      "[ 0  1  2  3  4  5  6  7  8  9 10 11 12 13 14 15 16 17 18 19 20 21 22 23\n",
      " 24 25 26 27 28 29]\n"
     ]
    }
   ],
   "source": [
    "a = np.arange(30)\n",
    "print('原数组')\n",
    "print(a)\n",
    "a = np.arange(30).reshape(-1,5) # -1表示该轴上的数值未知，此处与reshape(6,5)同\n",
    "print('修改数组形状')\n",
    "print(a)\n",
    "print('转置数组')\n",
    "print(a.T)\n",
    "print('展开为一维数组')\n",
    "print(a.flatten())"
   ]
  },
  {
   "cell_type": "code",
   "execution_count": 63,
   "metadata": {},
   "outputs": [
    {
     "name": "stdout",
     "output_type": "stream",
     "text": [
      "a的类型：\n",
      "<class 'list'>\n",
      "由列表a生成的数组b：\n",
      "<class 'numpy.ndarray'>\n",
      "将数组b转化为列表：\n",
      "<class 'list'>\n",
      "b中元素的数据类型为：\n",
      "int32\n",
      "修改b中元素的数据类型：\n",
      "float64\n"
     ]
    }
   ],
   "source": [
    "a = [1,2,3]\n",
    "print('a的类型：')\n",
    "print(type(a))\n",
    "b = np.asarray(a)\n",
    "print('由列表a生成的数组b：')\n",
    "print(type(b))\n",
    "print('将数组b转化为列表：')\n",
    "print(type(b.tolist())) # 将数组转换为列表\n",
    "print('b中元素的数据类型为：')\n",
    "print(b.dtype)\n",
    "print('修改b中元素的数据类型：')\n",
    "c = b.astype(float) # 转换数组中元素的数据类型\n",
    "print(c.dtype)"
   ]
  },
  {
   "cell_type": "markdown",
   "metadata": {},
   "source": [
    "#### 数组的索引和切片\n",
    "\n",
    "ndarray对象的内容可以通过索引或切片来访问和修改，与Python中list的切片操作一样。\n",
    "- 索引：获取数组中特定位置元素的过程。ndarray数组基于0 - n的下标进行索引\n",
    "    - 布尔索引：布尔索引通过布尔运算（如：比较运算符）来获取符合指定条件的元素\n",
    "- 切片：获取数组元素子集的过程。ndarray数组通过冒号分隔切片参数 start: stop: step 来进行切片操作  \n",
    "    >冒号的解释：如果只放置一个参数，如 [2]，将返回与该索引相对应的单个元素。如果为 [2:]，表示从该索引开始以后的所有项都将被提取。如果使用了两个参数，如 [2:7]，那么则提取两个索引(不包括停止索引)之间的项。\n"
   ]
  },
  {
   "cell_type": "code",
   "execution_count": 95,
   "metadata": {},
   "outputs": [
    {
     "name": "stdout",
     "output_type": "stream",
     "text": [
      "[0 1 2 3 4 5 6 7 8 9]\n",
      "[2 4 6]\n",
      "[3 4 5 6 7 8 9]\n",
      "[0 1 2 3 4 5 6 7]\n"
     ]
    }
   ],
   "source": [
    "# 索引和切片（通过下标）\n",
    "a = np.arange(10)  \n",
    "print(a)\n",
    "b = a[2:7:2]   # 从索引 2 开始到索引 7 停止，间隔为 2\n",
    "print(b)\n",
    "c = a[3:] # 从索引 3 开始到结束\n",
    "print(c)\n",
    "d = a[:-2]  # 从索引 0 开始到倒数第 2\n",
    "print(d)"
   ]
  },
  {
   "cell_type": "code",
   "execution_count": 28,
   "metadata": {},
   "outputs": [
    {
     "name": "stdout",
     "output_type": "stream",
     "text": [
      "[[ 0  1  2  3  4]\n",
      " [ 5  6  7  8  9]\n",
      " [10 11 12 13 14]\n",
      " [15 16 17 18 19]\n",
      " [20 21 22 23 24]\n",
      " [25 26 27 28 29]]\n",
      "从数组索引 a[1:] 处开始切割\n",
      "[[ 5  6  7  8  9]\n",
      " [10 11 12 13 14]\n",
      " [15 16 17 18 19]\n",
      " [20 21 22 23 24]\n",
      " [25 26 27 28 29]]\n",
      "提取索引为[1,2]的元素\n",
      "7\n",
      "7\n",
      "提取某两行\n",
      "[[ 5  6  7  8  9]\n",
      " [10 11 12 13 14]]\n",
      "提取某两列\n",
      "[[ 1  2]\n",
      " [ 6  7]\n",
      " [11 12]\n",
      " [16 17]\n",
      " [21 22]\n",
      " [26 27]]\n"
     ]
    }
   ],
   "source": [
    "# 多维数组的索引提取方法\n",
    "a = np.arange(30).reshape(-1,5)\n",
    "print(a)\n",
    "# 从某个索引处开始切割\n",
    "print('从数组索引 a[1:] 处开始切割')\n",
    "print(a[1:])\n",
    "print('提取索引为[1,2]的元素')\n",
    "print(a[1,2])\n",
    "print(a[1][2])\n",
    "print('提取某两行')\n",
    "print(a[[1,2]])\n",
    "print('提取某两列')\n",
    "print(a[:,[1,2]])"
   ]
  },
  {
   "cell_type": "code",
   "execution_count": 97,
   "metadata": {},
   "outputs": [
    {
     "name": "stdout",
     "output_type": "stream",
     "text": [
      "我们的数组是：\n",
      "[[ 0  1  2]\n",
      " [ 3  4  5]\n",
      " [ 6  7  8]\n",
      " [ 9 10 11]]\n",
      "大于 5 的元素是：\n",
      "[ 6  7  8  9 10 11]\n"
     ]
    }
   ],
   "source": [
    "# 布尔索引通过布尔运算（如：比较运算符）来获取符合指定条件的元素的数组。\n",
    "# 以下实例获取大于 5 的元素：\n",
    "x = np.array([[  0,  1,  2],[  3,  4,  5],[  6,  7,  8],[  9,  10,  11]])  \n",
    "print ('我们的数组是：')\n",
    "print (x)\n",
    "# 现在我们会打印出大于 5 的元素  \n",
    "print  ('大于 5 的元素是：')\n",
    "print (x[x >  5])  # 布尔索引"
   ]
  },
  {
   "cell_type": "markdown",
   "metadata": {},
   "source": [
    "#### 数组的排序和条件筛选\n",
    "- 排序\n",
    "    - numpy.sort() 函数返回输入数组的排序副本  \n",
    "    `numpy.sort(a, axis, kind, order)`\n",
    "    - numpy.argsort() 函数返回的是数组值从小到大的索引值  \n",
    "    - numpy.argmax() 和 numpy.argmin()函数分别沿给定轴返回最大和最小元素的索引\n",
    "- 条件筛选\n",
    "    - numpy.where() 函数返回输入数组中满足给定条件的元素的索引\n",
    "    - numpy.extract() 函数根据某个条件从数组中抽取元素，返回满足条件的元素。"
   ]
  },
  {
   "cell_type": "code",
   "execution_count": 98,
   "metadata": {},
   "outputs": [
    {
     "name": "stdout",
     "output_type": "stream",
     "text": [
      "原始数组是：\n",
      "[[3 7]\n",
      " [9 1]]\n",
      "按行排序：\n",
      "[[3 7]\n",
      " [1 9]]\n",
      "按列排序：\n",
      "[[3 1]\n",
      " [9 7]]\n"
     ]
    }
   ],
   "source": [
    "# 排序 np.sort\n",
    "# numpy.sort(a, axis, kind, order)\n",
    "x = np.array([[3,7],[9,1]])  \n",
    "print ('原始数组是：')\n",
    "print (x)\n",
    "print ('按行排序：')\n",
    "print (np.sort(x, axis = 1))\n",
    "print ('按列排序：')\n",
    "print (np.sort(x, axis = 0))"
   ]
  },
  {
   "cell_type": "code",
   "execution_count": 99,
   "metadata": {},
   "outputs": [
    {
     "name": "stdout",
     "output_type": "stream",
     "text": [
      "原始数组是：\n",
      "[3 1 2]\n",
      "对 x 调用 argsort() 函数：\n",
      "[1 2 0]\n",
      "以排序后的顺序重构原数组：\n",
      "[1 2 3]\n"
     ]
    }
   ],
   "source": [
    "# 排序 np.argsort\n",
    "# numpy.argsort() 函数返回的是数组值从小到大的索引值。\n",
    "x = np.array([3,  1,  2])  \n",
    "print ('原始数组是：')\n",
    "print (x)\n",
    "print ('对 x 调用 argsort() 函数：')\n",
    "y = np.argsort(x)  \n",
    "print (y)\n",
    "print ('以排序后的顺序重构原数组：')\n",
    "print (x[y])"
   ]
  },
  {
   "cell_type": "code",
   "execution_count": 100,
   "metadata": {},
   "outputs": [
    {
     "name": "stdout",
     "output_type": "stream",
     "text": [
      "原始数组是：\n",
      "[[30 40 70]\n",
      " [80 20 10]\n",
      " [50 90 60]]\n",
      "调用 argmax() 函数：\n",
      "7\n",
      "沿轴 0 的最大值索引：\n",
      "[1 2 0]\n",
      "沿轴 1 的最大值索引：\n",
      "[2 0 1]\n",
      "调用 argmin() 函数：\n",
      "5\n",
      "沿轴 0 的最小值索引：\n",
      "[0 1 1]\n",
      "沿轴 1 的最小值索引：\n",
      "[0 2 0]\n"
     ]
    }
   ],
   "source": [
    "#  numpy.argmax() 和 numpy.argmin()分别沿给定轴返回最大和最小元素的索引。\n",
    "x = np.array([[30,40,70],[80,20,10],[50,90,60]])  \n",
    "print  ('原始数组是：') \n",
    "print (x) \n",
    "print ('调用 argmax() 函数：') \n",
    "print (np.argmax(x)) \n",
    "print ('沿轴 0 的最大值索引：') \n",
    "maxindex = np.argmax(x, axis =  0)  \n",
    "print (maxindex) \n",
    "print ('沿轴 1 的最大值索引：') \n",
    "maxindex = np.argmax(x, axis =  1)  \n",
    "print (maxindex) \n",
    "print ('调用 argmin() 函数：') \n",
    "minindex = np.argmin(x)  \n",
    "print (minindex) \n",
    "print ('沿轴 0 的最小值索引：') \n",
    "minindex = np.argmin(x, axis =  0)  \n",
    "print (minindex) \n",
    "print ('沿轴 1 的最小值索引：') \n",
    "minindex = np.argmin(x, axis =  1)  \n",
    "print (minindex)"
   ]
  },
  {
   "cell_type": "code",
   "execution_count": 101,
   "metadata": {},
   "outputs": [
    {
     "name": "stdout",
     "output_type": "stream",
     "text": [
      "原始数组是：\n",
      "[[0 1 2]\n",
      " [3 4 5]\n",
      " [6 7 8]]\n",
      "大于 3 的元素的索引：\n",
      "(array([1, 1, 2, 2, 2], dtype=int64), array([1, 2, 0, 1, 2], dtype=int64))\n",
      "使用这些索引来获取满足条件的元素：\n",
      "[4 5 6 7 8]\n",
      "如果数字大于3输出该数字，如果小于3则输出3\n",
      "[[3 3 3]\n",
      " [3 4 5]\n",
      " [6 7 8]]\n"
     ]
    }
   ],
   "source": [
    "# numpy.where() 函数返回输入数组中满足给定条件的元素的索引\n",
    "\n",
    "x = np.arange(9).reshape(3,  3)  \n",
    "print ('原始数组是：')\n",
    "print (x)\n",
    "print ( '大于 3 的元素的索引：')\n",
    "# np.where(condition) 输出的是判断condition为真的元素的坐标，第一个array是横坐标，第二个array是纵坐标\n",
    "y = np.where(x >  3)  \n",
    "print (y)\n",
    "print ('使用这些索引来获取满足条件的元素：')\n",
    "print (x[y])\n",
    "# np.where(condition, x, y) 满足条件(condition)，输出x，不满足输出y\n",
    "y = np.where(x>3, x, 3)\n",
    "print('如果数字大于3输出该数字，如果小于3则输出3')\n",
    "print(y)"
   ]
  },
  {
   "cell_type": "code",
   "execution_count": 102,
   "metadata": {},
   "outputs": [
    {
     "name": "stdout",
     "output_type": "stream",
     "text": [
      "原始数组是：\n",
      "[[0. 1. 2.]\n",
      " [3. 4. 5.]\n",
      " [6. 7. 8.]]\n",
      "按元素的条件值：\n",
      "[[ True False  True]\n",
      " [False  True False]\n",
      " [ True False  True]]\n",
      "使用条件提取元素：\n",
      "[0. 2. 4. 6. 8.]\n"
     ]
    }
   ],
   "source": [
    "# numpy.extract() 函数根据某个条件从数组中抽取元素，返回满条件的元素。\n",
    "\n",
    "x = np.arange(9.).reshape(3,  3)  \n",
    "print ('原始数组是：')\n",
    "print (x)\n",
    "# 定义条件，选择偶数元素\n",
    "condition = np.mod(x,2)  ==  0  \n",
    "print ('按元素的条件值：')\n",
    "print (condition)\n",
    "print ('使用条件提取元素：')\n",
    "print (np.extract(condition, x))"
   ]
  },
  {
   "cell_type": "markdown",
   "metadata": {},
   "source": [
    "**Exercise：**\n",
    "\n",
    "    请大家利用前面所述的内容，练习：\n",
    "    - 生成二维数组\n",
    "    - 利用切片方法提取特定位置的元素\n",
    "    - 返回这些数组在不同方向上排序后的元素值和索引值。\n",
    "    - 进行条件筛选"
   ]
  },
  {
   "cell_type": "markdown",
   "metadata": {},
   "source": [
    "#### 数组的运算\n",
    "|函数|说明|\n",
    "| -- | -- |\n",
    "|+ ‐ * / ** | 两个数组中对应元素进行加，减，乘，除，指数运算 |\n",
    "| np.mod() np.fmod() | 模运算，二者处理负数的方式不同 |\n",
    "| np.reciprocal() | 返回数组中元素的倒数 |\n",
    "| > < >= <= == != | 算术比较，产生布尔型数组 |\n"
   ]
  },
  {
   "cell_type": "code",
   "execution_count": 84,
   "metadata": {},
   "outputs": [
    {
     "name": "stdout",
     "output_type": "stream",
     "text": [
      "第一个数组：\n",
      "[[0. 1. 2.]\n",
      " [3. 4. 5.]\n",
      " [6. 7. 8.]]\n",
      "\n",
      "\n",
      "第二个数组：\n",
      "[10 10 10]\n",
      "\n",
      "\n",
      "两个数组相加：\n",
      "[[10. 11. 12.]\n",
      " [13. 14. 15.]\n",
      " [16. 17. 18.]]\n",
      "\n",
      "\n",
      "两个数组相减：\n",
      "[[-10.  -9.  -8.]\n",
      " [ -7.  -6.  -5.]\n",
      " [ -4.  -3.  -2.]]\n",
      "\n",
      "\n",
      "两个数组相乘：\n",
      "[[ 0. 10. 20.]\n",
      " [30. 40. 50.]\n",
      " [60. 70. 80.]]\n",
      "\n",
      "\n",
      "两个数组相除：\n",
      "[[0.  0.1 0.2]\n",
      " [0.3 0.4 0.5]\n",
      " [0.6 0.7 0.8]]\n"
     ]
    }
   ],
   "source": [
    "import numpy as np \n",
    " \n",
    "a = np.arange(9, dtype = np.float).reshape(3,3)  \n",
    "print ('第一个数组：')\n",
    "print (a)\n",
    "print ('\\n')\n",
    "print ('第二个数组：')\n",
    "b = np.array([10,10,10])  \n",
    "print (b)\n",
    "print ('\\n')\n",
    "print ('两个数组相加：')\n",
    "print (np.add(a,b)) # +\n",
    "print ('\\n')\n",
    "print ('两个数组相减：')\n",
    "print (np.subtract(a,b)) # -\n",
    "print ('\\n')\n",
    "print ('两个数组相乘：')\n",
    "print (np.multiply(a,b)) # *\n",
    "print ('\\n')\n",
    "print ('两个数组相除：')\n",
    "print (np.divide(a,b)) # /"
   ]
  },
  {
   "cell_type": "code",
   "execution_count": 88,
   "metadata": {},
   "outputs": [
    {
     "name": "stdout",
     "output_type": "stream",
     "text": [
      "我们的数组是；\n",
      "[  10  100 1000]\n",
      "\n",
      "\n",
      "调用 power 函数：\n",
      "[    100   10000 1000000]\n",
      "[    100   10000 1000000]\n",
      "\n",
      "\n",
      "第二个数组：\n",
      "[1 2 3]\n",
      "\n",
      "\n",
      "调用 power 函数：\n",
      "[        10      10000 1000000000]\n",
      "[        10      10000 1000000000]\n"
     ]
    }
   ],
   "source": [
    "import numpy as np \n",
    "\n",
    "# .power()等同于**\n",
    "a = np.array([10,100,1000])  \n",
    "print ('我们的数组是；')\n",
    "print (a)\n",
    "print ('\\n') \n",
    "print ('调用 power 函数：')\n",
    "print (np.power(a,2))\n",
    "print (a**2)\n",
    "print ('\\n')\n",
    "print ('第二个数组：')\n",
    "b = np.array([1,2,3])  \n",
    "print (b)\n",
    "print ('\\n')\n",
    "print ('调用 power 函数：')\n",
    "print (np.power(a,b))\n",
    "print (a**b)"
   ]
  },
  {
   "cell_type": "code",
   "execution_count": 91,
   "metadata": {},
   "outputs": [
    {
     "name": "stdout",
     "output_type": "stream",
     "text": [
      "第一个数组：\n",
      "[-10  20 -30]\n",
      "第二个数组：\n",
      "[3 5 7]\n",
      "调用 mod() 函数：\n",
      "[2 0 5]\n",
      "调用 fmod() 函数：\n",
      "[-1  0 -2]\n"
     ]
    }
   ],
   "source": [
    "import numpy as np\n",
    " \n",
    "a = np.array([-10,20,-30]) \n",
    "b = np.array([3,5,7])  \n",
    "print ('第一个数组：')\n",
    "print (a)\n",
    "print ('第二个数组：')\n",
    "print (b)\n",
    "print ('调用 mod() 函数：')\n",
    "print (np.mod(a,b))\n",
    "print ('调用 fmod() 函数：')\n",
    "print (np.fmod(a,b))"
   ]
  },
  {
   "cell_type": "code",
   "execution_count": 92,
   "metadata": {},
   "outputs": [
    {
     "name": "stdout",
     "output_type": "stream",
     "text": [
      "我们的数组是：\n",
      "[  0.25   1.33   1.   100.  ]\n",
      "调用 reciprocal 函数：\n",
      "[4.        0.7518797 1.        0.01     ]\n"
     ]
    }
   ],
   "source": [
    "a = np.array([0.25,  1.33,  1,  100])  \n",
    "print ('我们的数组是：')\n",
    "print (a)\n",
    "print ('调用 reciprocal 函数：')\n",
    "print (np.reciprocal(a))"
   ]
  },
  {
   "cell_type": "markdown",
   "metadata": {},
   "source": [
    "#### Numpy中的统计函数\n",
    "| 函数 | 说明 |\n",
    "| ----  | ---- |\n",
    "| sum(a, axis=None) | 根据给定轴axis计算数组a相关元素之和 |\n",
    "| mean(a, axis=None) | 根据给定轴axis计算数组a相关元素的期望 |\n",
    "| average(a,axis=None,weights=None) | 根据给定轴axis计算数组a相关元素的加权平均值 |\n",
    "| std(a, axis=None) | 根据给定轴axis计算数组a相关元素的标准差 |\n",
    "| var(a, axis=None) | 根据给定轴axis计算数组a相关元素的方差 |\n",
    "| min(a) max(a) | 计算数组a中元素的最小值、最大值 |"
   ]
  },
  {
   "cell_type": "code",
   "execution_count": 65,
   "metadata": {},
   "outputs": [
    {
     "name": "stdout",
     "output_type": "stream",
     "text": [
      "[[0.44769478 0.27564407 0.72485823 0.6529637  0.48678569]\n",
      " [0.52850158 0.48934174 0.4387976  0.95523601 0.55784119]\n",
      " [0.64129849 0.46584572 0.34560508 0.4662815  0.92167153]\n",
      " [0.40552355 0.014046   0.41605365 0.12612868 0.2339359 ]]\n"
     ]
    }
   ],
   "source": [
    "# 假设有5个股票的时间序列，时间序列的长度为4天，共为20个随机数  \n",
    "# np.random.random 用以产生随机数（注意np.random与python自带random库的区别）\n",
    "stock_return = np.random.random(20).reshape(4,5)  \n",
    "print(stock_return)"
   ]
  },
  {
   "cell_type": "code",
   "execution_count": 66,
   "metadata": {},
   "outputs": [
    {
     "data": {
      "text/plain": [
       "array([2.0230184 , 1.24487752, 1.92531457, 2.20060989, 2.20023431])"
      ]
     },
     "execution_count": 66,
     "metadata": {},
     "output_type": "execute_result"
    }
   ],
   "source": [
    "# 求5个股票收益率在4天中的和\n",
    "stock_return.sum(axis = 0)"
   ]
  },
  {
   "cell_type": "code",
   "execution_count": 67,
   "metadata": {},
   "outputs": [
    {
     "data": {
      "text/plain": [
       "array([0.06153251, 0.00088258, 0.0457348 , 0.03668274, 0.05854926])"
      ]
     },
     "execution_count": 67,
     "metadata": {},
     "output_type": "execute_result"
    }
   ],
   "source": [
    "# 求5个股票收益率在4天中的乘积\n",
    "stock_return.prod(axis = 0)"
   ]
  },
  {
   "cell_type": "code",
   "execution_count": 68,
   "metadata": {},
   "outputs": [
    {
     "data": {
      "text/plain": [
       "array([0.64129849, 0.48934174, 0.72485823, 0.95523601, 0.92167153])"
      ]
     },
     "execution_count": 68,
     "metadata": {},
     "output_type": "execute_result"
    }
   ],
   "source": [
    "# 求5个股票收益率在4天中的最大收益\n",
    "stock_return.max(axis = 0)"
   ]
  },
  {
   "cell_type": "code",
   "execution_count": 69,
   "metadata": {},
   "outputs": [
    {
     "data": {
      "text/plain": [
       "array([0.27564407, 0.4387976 , 0.34560508, 0.014046  ])"
      ]
     },
     "execution_count": 69,
     "metadata": {},
     "output_type": "execute_result"
    }
   ],
   "source": [
    "# 求4天中每天最小收益股票的收益值\n",
    "stock_return.min(axis = 1)"
   ]
  },
  {
   "cell_type": "code",
   "execution_count": 70,
   "metadata": {},
   "outputs": [
    {
     "name": "stdout",
     "output_type": "stream",
     "text": [
      "均值：\n"
     ]
    },
    {
     "data": {
      "text/plain": [
       "array([0.5057546 , 0.31121938, 0.48132864, 0.55015247, 0.55005858])"
      ]
     },
     "execution_count": 70,
     "metadata": {},
     "output_type": "execute_result"
    }
   ],
   "source": [
    "# 求5个股票收益率在4天中的平均收益\n",
    "print('均值：')\n",
    "stock_return.mean(axis = 0)"
   ]
  },
  {
   "cell_type": "code",
   "execution_count": 71,
   "metadata": {},
   "outputs": [
    {
     "name": "stdout",
     "output_type": "stream",
     "text": [
      "方差：\n"
     ]
    },
    {
     "data": {
      "text/plain": [
       "array([0.00807669, 0.03630362, 0.02094931, 0.09037333, 0.06052344])"
      ]
     },
     "execution_count": 71,
     "metadata": {},
     "output_type": "execute_result"
    }
   ],
   "source": [
    "# 求5个股票收益率在4天中的方差和标准差\n",
    "print('方差：')\n",
    "stock_return.var(axis = 0)"
   ]
  },
  {
   "cell_type": "code",
   "execution_count": 72,
   "metadata": {},
   "outputs": [
    {
     "name": "stdout",
     "output_type": "stream",
     "text": [
      "标准差：\n"
     ]
    },
    {
     "data": {
      "text/plain": [
       "array([0.08987043, 0.1905351 , 0.14473878, 0.30062158, 0.24601512])"
      ]
     },
     "execution_count": 72,
     "metadata": {},
     "output_type": "execute_result"
    }
   ],
   "source": [
    "# 求5个股票收益率在4天中的方差和标准差\n",
    "print('标准差：')\n",
    "stock_return.std(axis = 0)"
   ]
  },
  {
   "cell_type": "markdown",
   "metadata": {},
   "source": [
    "#### Numpy 线性代数\n",
    "NumPy 提供了线性代数函数库 linalg，该库包含了线性代数所需的所有功能\n",
    "\n",
    "- 相关系数矩阵和对角线元素\n",
    "- 矩阵的逆矩阵，行列式和特征值分解"
   ]
  },
  {
   "cell_type": "code",
   "execution_count": 94,
   "metadata": {},
   "outputs": [
    {
     "name": "stdout",
     "output_type": "stream",
     "text": [
      "相关系数矩阵：\n",
      "[[ 1.          0.32560122 -0.3222009   0.51886409]\n",
      " [ 0.32560122  1.         -0.04924375 -0.38293844]\n",
      " [-0.3222009  -0.04924375  1.          0.03508507]\n",
      " [ 0.51886409 -0.38293844  0.03508507  1.        ]]\n"
     ]
    }
   ],
   "source": [
    "# 求5个股票收益率在4天中的相关系数矩阵\n",
    "print('相关系数矩阵：')\n",
    "print(np.corrcoef(stock_return))"
   ]
  },
  {
   "cell_type": "code",
   "execution_count": 95,
   "metadata": {},
   "outputs": [
    {
     "name": "stdout",
     "output_type": "stream",
     "text": [
      "对角线元素：\n",
      "[1. 1. 1. 1.]\n"
     ]
    }
   ],
   "source": [
    "# 提取对角线元素\n",
    "stock_corr = np.corrcoef(stock_return)\n",
    "print('对角线元素：')\n",
    "print(np.diag(stock_corr))"
   ]
  },
  {
   "cell_type": "code",
   "execution_count": 96,
   "metadata": {},
   "outputs": [
    {
     "name": "stdout",
     "output_type": "stream",
     "text": [
      "行列式：\n",
      "0.26126445438314755\n"
     ]
    }
   ],
   "source": [
    "# 计算行列式\n",
    "import numpy.linalg as la\n",
    "stock_corr = np.corrcoef(stock_return)\n",
    "print('行列式：')\n",
    "print(la.det(stock_corr))"
   ]
  },
  {
   "cell_type": "code",
   "execution_count": 97,
   "metadata": {},
   "outputs": [
    {
     "name": "stdout",
     "output_type": "stream",
     "text": [
      "逆矩阵：\n",
      "[[ 3.25733352 -1.95763138  1.03999424 -2.47625398]\n",
      " [-1.95763138  2.35012731 -0.58295154  1.93615161]\n",
      " [ 1.03999424 -0.58295154  1.33478809 -0.80968136]\n",
      " [-2.47625398  1.93615161 -0.80968136  3.05467389]]\n"
     ]
    }
   ],
   "source": [
    "# 矩阵求逆\n",
    "import numpy.linalg as la\n",
    "stock_corr = np.corrcoef(stock_return)\n",
    "print('逆矩阵：')\n",
    "print(la.inv(stock_corr))"
   ]
  },
  {
   "cell_type": "code",
   "execution_count": 98,
   "metadata": {},
   "outputs": [
    {
     "name": "stdout",
     "output_type": "stream",
     "text": [
      "特征值：\n",
      "[0.13285107 0.89630421 1.59660857 1.37423614]\n",
      "特征向量：\n",
      "[[-0.61403009  0.22682751  0.72967532 -0.19771255]\n",
      " [ 0.47710155  0.43980294  0.05922497 -0.75857754]\n",
      " [-0.22481559  0.84485843 -0.36513208  0.31992303]\n",
      " [ 0.58719598  0.20331474  0.57510424  0.53208938]]\n",
      "特征值：\n",
      "[0.13285107 0.89630421 1.59660857 1.37423614]\n"
     ]
    }
   ],
   "source": [
    "# 特征值分解 singular value decomposition\n",
    "import numpy.linalg as la\n",
    "stock_corr = np.corrcoef(stock_return)\n",
    "w, v = la.eig(stock_corr)\n",
    "print('特征值：')\n",
    "print(w)\n",
    "print('特征向量：')\n",
    "print(v)\n",
    "print('特征值：')\n",
    "print(la.eigvals(stock_corr))"
   ]
  },
  {
   "cell_type": "code",
   "execution_count": null,
   "metadata": {},
   "outputs": [],
   "source": []
  }
 ],
 "metadata": {
  "kernelspec": {
   "display_name": "Python 3",
   "language": "python",
   "name": "python3"
  },
  "language_info": {
   "codemirror_mode": {
    "name": "ipython",
    "version": 3
   },
   "file_extension": ".py",
   "mimetype": "text/x-python",
   "name": "python",
   "nbconvert_exporter": "python",
   "pygments_lexer": "ipython3",
   "version": "3.7.9"
  }
 },
 "nbformat": 4,
 "nbformat_minor": 4
}
