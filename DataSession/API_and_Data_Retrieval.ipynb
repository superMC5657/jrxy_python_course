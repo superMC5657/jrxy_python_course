{
 "cells": [
  {
   "cell_type": "code",
   "metadata": {
    "pycharm": {
     "name": "#%%\n"
    }
   },
   "source": [
    "### API\n",
    "\n",
    "\n",
    "#### What is API\n",
    "\n",
    "API（Application Programming Interface，应用程序编程接口）是一些预先定义的函数，目的是提供应用程序与开发人员基于某软件或硬件得以访问一组例程的能力，而又无需访问源码或理解内部工作机制的细节。\n",
    "\n",
    "#### How do APIs work\n",
    "根据API的定义，可将API视为交换信息的连接器。但是，API是如何工作的呢？\n",
    "\n",
    "一个常见的比喻是在餐厅点菜。作为客户，您不能直接向正在准备食物的厨师下订单。取而代之的是，服务员接受您的订单，并将其传达回厨师，然后在准备好食物后将其交付给您。那个服务员就像一个API。\n",
    "\n",
    "#### Types of APIs\n",
    "\n",
    "![Figure object](https://img-blog.csdnimg.cn/20200807181201274.png?x-oss-process=image/watermark,type_ZmFuZ3poZW5naGVpdGk,shadow_10,text_aHR0cHM6Ly9ibG9nLmNzZG4ubmV0L3FxXzQyMjIyMzQy,size_16,color_FFFFFF,t_70)\n",
    "\n",
    "**APIs provide a standard way of accessing any application data, or device**\n",
    "\n",
    "#### Why we need APIs\n",
    "\n",
    "- 快速扩展功能\n",
    "- 提高开发效率\n",
    "- 降低模块之间的耦合度"
   ],
   "execution_count": null,
   "outputs": []
  },
  {
   "cell_type": "markdown",
   "metadata": {},
   "source": [
    "### List of APIs \n",
    "\n",
    "- pandas_datareader\n",
    "- tushare, baostock, akshare\n",
    "- fixer.io\n",
    "- ..."
   ]
  },
  {
   "cell_type": "markdown",
   "metadata": {},
   "source": [
    "### pandas_datareader\n",
    "\n",
    "安装：`pip install pandas-datareader`  \n",
    "> 下载数据前请将pandas-datareader以及pandas升级到最新版本  \n",
    "`pip install --upgrade pandas\n",
    "pip install --upgrade pandas-datareader`\n",
    "\n",
    "Please refer to its Github Repo for more details: [link here](https://pandas-datareader.readthedocs.io/en/latest/remote_data.html)\n",
    "#### Data Readers\n",
    "\n",
    "Functions from **pandas_datareader.data** and **pandas_datareader.wb** extract data from various Internet sources into a pandas DataFrame. Currently the following sources are supported:\n",
    "\n",
    "- AlphaVantage(X)\n",
    "- **Federal Reserve Economic Data (FRED)**\n",
    "- Fama-French Data (Ken French’s Data Library)\n",
    "- Bank of Canada\n",
    "- Econdb\n",
    "- Enigma\n",
    "- Eurostat\n",
    "- The Investors Exchange (IEX)(X)\n",
    "- Moscow Exchange (MOEX)\n",
    "- **NASDAQ**\n",
    "- Naver Finance\n",
    "- Organisation for Economic Co-operation and Development (OECD)\n",
    "- Quandl(X)\n",
    "- **Stooq.com**\n",
    "- Tiingo(X)\n",
    "- Thrift Savings Plan (TSP)\n",
    "- **World Bank**\n",
    "\n",
    "You may not be able to use all datasets. "
   ]
  },
  {
   "cell_type": "markdown",
   "metadata": {},
   "source": [
    "#### Data from FRED St.Louis\n",
    "\n",
    "This example reads 5-years of 10-year constant maturity yields on U.S. government bonds."
   ]
  },
  {
   "cell_type": "code",
   "execution_count": 2,
   "metadata": {},
   "outputs": [
    {
     "data": {
      "text/html": [
       "<div>\n",
       "<style scoped>\n",
       "    .dataframe tbody tr th:only-of-type {\n",
       "        vertical-align: middle;\n",
       "    }\n",
       "\n",
       "    .dataframe tbody tr th {\n",
       "        vertical-align: top;\n",
       "    }\n",
       "\n",
       "    .dataframe thead th {\n",
       "        text-align: right;\n",
       "    }\n",
       "</style>\n",
       "<table border=\"1\" class=\"dataframe\">\n",
       "  <thead>\n",
       "    <tr style=\"text-align: right;\">\n",
       "      <th></th>\n",
       "      <th>GS10</th>\n",
       "    </tr>\n",
       "    <tr>\n",
       "      <th>DATE</th>\n",
       "      <th></th>\n",
       "    </tr>\n",
       "  </thead>\n",
       "  <tbody>\n",
       "    <tr>\n",
       "      <th>2016-11-01</th>\n",
       "      <td>2.14</td>\n",
       "    </tr>\n",
       "    <tr>\n",
       "      <th>2016-12-01</th>\n",
       "      <td>2.49</td>\n",
       "    </tr>\n",
       "    <tr>\n",
       "      <th>2017-01-01</th>\n",
       "      <td>2.43</td>\n",
       "    </tr>\n",
       "    <tr>\n",
       "      <th>2017-02-01</th>\n",
       "      <td>2.42</td>\n",
       "    </tr>\n",
       "    <tr>\n",
       "      <th>2017-03-01</th>\n",
       "      <td>2.48</td>\n",
       "    </tr>\n",
       "  </tbody>\n",
       "</table>\n",
       "</div>"
      ],
      "text/plain": [
       "            GS10\n",
       "DATE            \n",
       "2016-11-01  2.14\n",
       "2016-12-01  2.49\n",
       "2017-01-01  2.43\n",
       "2017-02-01  2.42\n",
       "2017-03-01  2.48"
      ]
     },
     "execution_count": 2,
     "metadata": {},
     "output_type": "execute_result"
    }
   ],
   "source": [
    "import pandas_datareader as pdr\n",
    "pd = pdr.get_data_fred('GS10')\n",
    "pd.head()"
   ]
  },
  {
   "cell_type": "markdown",
   "metadata": {},
   "source": [
    "查看数据摘要："
   ]
  },
  {
   "cell_type": "code",
   "execution_count": 4,
   "metadata": {},
   "outputs": [
    {
     "name": "stdout",
     "output_type": "stream",
     "text": [
      "<class 'pandas.core.frame.DataFrame'>\n",
      "DatetimeIndex: 59 entries, 2016-11-01 to 2021-09-01\n",
      "Data columns (total 1 columns):\n",
      " #   Column  Non-Null Count  Dtype  \n",
      "---  ------  --------------  -----  \n",
      " 0   GS10    59 non-null     float64\n",
      "dtypes: float64(1)\n",
      "memory usage: 944.0 bytes\n"
     ]
    }
   ],
   "source": [
    "pd.info()"
   ]
  },
  {
   "cell_type": "markdown",
   "metadata": {},
   "source": [
    "获取GDP数据："
   ]
  },
  {
   "cell_type": "code",
   "execution_count": 2,
   "metadata": {},
   "outputs": [
    {
     "data": {
      "text/html": [
       "<div>\n",
       "<style scoped>\n",
       "    .dataframe tbody tr th:only-of-type {\n",
       "        vertical-align: middle;\n",
       "    }\n",
       "\n",
       "    .dataframe tbody tr th {\n",
       "        vertical-align: top;\n",
       "    }\n",
       "\n",
       "    .dataframe thead th {\n",
       "        text-align: right;\n",
       "    }\n",
       "</style>\n",
       "<table border=\"1\" class=\"dataframe\">\n",
       "  <thead>\n",
       "    <tr style=\"text-align: right;\">\n",
       "      <th></th>\n",
       "      <th>GDP</th>\n",
       "    </tr>\n",
       "    <tr>\n",
       "      <th>DATE</th>\n",
       "      <th></th>\n",
       "    </tr>\n",
       "  </thead>\n",
       "  <tbody>\n",
       "    <tr>\n",
       "      <th>2015-01-01</th>\n",
       "      <td>18003.399</td>\n",
       "    </tr>\n",
       "    <tr>\n",
       "      <th>2015-04-01</th>\n",
       "      <td>18223.577</td>\n",
       "    </tr>\n",
       "    <tr>\n",
       "      <th>2015-07-01</th>\n",
       "      <td>18347.425</td>\n",
       "    </tr>\n",
       "    <tr>\n",
       "      <th>2015-10-01</th>\n",
       "      <td>18378.803</td>\n",
       "    </tr>\n",
       "    <tr>\n",
       "      <th>2016-01-01</th>\n",
       "      <td>18470.156</td>\n",
       "    </tr>\n",
       "  </tbody>\n",
       "</table>\n",
       "</div>"
      ],
      "text/plain": [
       "                  GDP\n",
       "DATE                 \n",
       "2015-01-01  18003.399\n",
       "2015-04-01  18223.577\n",
       "2015-07-01  18347.425\n",
       "2015-10-01  18378.803\n",
       "2016-01-01  18470.156"
      ]
     },
     "execution_count": 2,
     "metadata": {},
     "output_type": "execute_result"
    }
   ],
   "source": [
    "import pandas_datareader.data as web\n",
    "import datetime\n",
    "start = datetime.datetime(2015,1,1)\n",
    "end = datetime.datetime(2020,1,1)\n",
    "gdp = web.DataReader('GDP', 'fred', start, end)\n",
    "gdp.head()"
   ]
  },
  {
   "cell_type": "markdown",
   "metadata": {},
   "source": [
    "#### Data from World Bank\n",
    "\n",
    "pandas users can easily access thousands of panel data series from the World Bank’s World Development Indicators by using the wb I/O functions.\n",
    "\n",
    "Either from exploring the World Bank site, or using the search function included, every world bank indicator is accessible.\n",
    "\n",
    "例如，如果要比较北美以固定美元计算的人均国内生产总值，可以使用搜索功能："
   ]
  },
  {
   "cell_type": "code",
   "execution_count": 23,
   "metadata": {
    "collapsed": true,
    "jupyter": {
     "outputs_hidden": true
    }
   },
   "outputs": [
    {
     "name": "stdout",
     "output_type": "stream",
     "text": [
      "                         id  \\\n",
      "716      6.0.GDPpc_constant   \n",
      "10384        NY.GDP.PCAP.KD   \n",
      "10386        NY.GDP.PCAP.KN   \n",
      "10388     NY.GDP.PCAP.PP.KD   \n",
      "10389  NY.GDP.PCAP.PP.KD.87   \n",
      "\n",
      "                                                    name unit  \\\n",
      "716    GDP per capita, PPP (constant 2011 internation...        \n",
      "10384                 GDP per capita (constant 2010 US$)        \n",
      "10386                      GDP per capita (constant LCU)        \n",
      "10388  GDP per capita, PPP (constant 2017 internation...        \n",
      "10389  GDP per capita, PPP (constant 1987 internation...        \n",
      "\n",
      "                             source  \\\n",
      "716                  LAC Equity Lab   \n",
      "10384  World Development Indicators   \n",
      "10386  World Development Indicators   \n",
      "10388  World Development Indicators   \n",
      "10389         WDI Database Archives   \n",
      "\n",
      "                                              sourceNote  \\\n",
      "716    GDP per capita based on purchasing power parit...   \n",
      "10384  GDP per capita is gross domestic product divid...   \n",
      "10386  GDP per capita is gross domestic product divid...   \n",
      "10388  GDP per capita based on purchasing power parit...   \n",
      "10389                                                      \n",
      "\n",
      "                                      sourceOrganization            topics  \n",
      "716         b'World Development Indicators (World Bank)'  Economy & Growth  \n",
      "10384  b'World Bank national accounts data, and OECD ...  Economy & Growth  \n",
      "10386  b'World Bank national accounts data, and OECD ...  Economy & Growth  \n",
      "10388  b'International Comparison Program, World Bank...  Economy & Growth  \n",
      "10389                                                b''                    \n"
     ]
    }
   ],
   "source": [
    "from pandas_datareader import wb\n",
    "matches = wb.search('gdp.*capita.*const')\n",
    "\n",
    "print(matches)"
   ]
  },
  {
   "cell_type": "markdown",
   "metadata": {},
   "source": [
    "然后，您将使用下载功能从世界银行的服务器获取数据："
   ]
  },
  {
   "cell_type": "code",
   "execution_count": 24,
   "metadata": {
    "collapsed": true,
    "jupyter": {
     "outputs_hidden": true
    }
   },
   "outputs": [
    {
     "name": "stdout",
     "output_type": "stream",
     "text": [
      "                    NY.GDP.PCAP.KD\n",
      "country       year                \n",
      "Canada        2008    48611.791806\n",
      "              2007    48650.855933\n",
      "              2006    45968.244184\n",
      "              2005    44577.993393\n",
      "Mexico        2008     9587.636253\n",
      "              2007     9622.047869\n",
      "              2006     9547.333393\n",
      "              2005     9270.656892\n",
      "United States 2008    49319.478865\n",
      "              2007    49856.281490\n",
      "              2006    49405.767297\n",
      "              2005    48499.812376\n"
     ]
    }
   ],
   "source": [
    "dat = wb.download(indicator='NY.GDP.PCAP.KD', country=['US', 'CA', 'MX'], start=2005, end=2008)\n",
    "\n",
    "print(dat)"
   ]
  },
  {
   "cell_type": "markdown",
   "metadata": {},
   "source": [
    "生成的数据集是具有层次索引的正确格式的数据帧，因此易于应用groupby转换："
   ]
  },
  {
   "cell_type": "code",
   "execution_count": 25,
   "metadata": {},
   "outputs": [
    {
     "data": {
      "text/plain": [
       "country\n",
       "Canada           46952.221329\n",
       "Mexico            9506.918602\n",
       "United States    49270.335007\n",
       "Name: NY.GDP.PCAP.KD, dtype: float64"
      ]
     },
     "execution_count": 25,
     "metadata": {},
     "output_type": "execute_result"
    }
   ],
   "source": [
    "dat['NY.GDP.PCAP.KD'].groupby(level=0).mean()"
   ]
  },
  {
   "cell_type": "markdown",
   "metadata": {},
   "source": [
    "### Data from stooq\n",
    "\n",
    "Google finance doesn’t provide common index data download. The Stooq site has the data for download.\n",
    "\n",
    "获取道琼斯指数价格："
   ]
  },
  {
   "cell_type": "code",
   "execution_count": 12,
   "metadata": {},
   "outputs": [
    {
     "data": {
      "text/html": [
       "<div>\n",
       "<style scoped>\n",
       "    .dataframe tbody tr th:only-of-type {\n",
       "        vertical-align: middle;\n",
       "    }\n",
       "\n",
       "    .dataframe tbody tr th {\n",
       "        vertical-align: top;\n",
       "    }\n",
       "\n",
       "    .dataframe thead th {\n",
       "        text-align: right;\n",
       "    }\n",
       "</style>\n",
       "<table border=\"1\" class=\"dataframe\">\n",
       "  <thead>\n",
       "    <tr style=\"text-align: right;\">\n",
       "      <th></th>\n",
       "      <th>Open</th>\n",
       "      <th>High</th>\n",
       "      <th>Low</th>\n",
       "      <th>Close</th>\n",
       "      <th>Volume</th>\n",
       "    </tr>\n",
       "    <tr>\n",
       "      <th>Date</th>\n",
       "      <th></th>\n",
       "      <th></th>\n",
       "      <th></th>\n",
       "      <th></th>\n",
       "      <th></th>\n",
       "    </tr>\n",
       "  </thead>\n",
       "  <tbody>\n",
       "    <tr>\n",
       "      <th>2021-10-22</th>\n",
       "      <td>35607.72</td>\n",
       "      <td>35765.02</td>\n",
       "      <td>35533.95</td>\n",
       "      <td>35677.02</td>\n",
       "      <td>377998070</td>\n",
       "    </tr>\n",
       "    <tr>\n",
       "      <th>2021-10-21</th>\n",
       "      <td>35520.32</td>\n",
       "      <td>35612.36</td>\n",
       "      <td>35442.53</td>\n",
       "      <td>35603.08</td>\n",
       "      <td>341046446</td>\n",
       "    </tr>\n",
       "    <tr>\n",
       "      <th>2021-10-20</th>\n",
       "      <td>35475.16</td>\n",
       "      <td>35669.69</td>\n",
       "      <td>35465.71</td>\n",
       "      <td>35609.34</td>\n",
       "      <td>301816501</td>\n",
       "    </tr>\n",
       "    <tr>\n",
       "      <th>2021-10-19</th>\n",
       "      <td>35325.37</td>\n",
       "      <td>35462.68</td>\n",
       "      <td>35290.12</td>\n",
       "      <td>35457.31</td>\n",
       "      <td>314648025</td>\n",
       "    </tr>\n",
       "    <tr>\n",
       "      <th>2021-10-18</th>\n",
       "      <td>35221.02</td>\n",
       "      <td>35327.57</td>\n",
       "      <td>35035.94</td>\n",
       "      <td>35258.61</td>\n",
       "      <td>358473544</td>\n",
       "    </tr>\n",
       "  </tbody>\n",
       "</table>\n",
       "</div>"
      ],
      "text/plain": [
       "                Open      High       Low     Close     Volume\n",
       "Date                                                         \n",
       "2021-10-22  35607.72  35765.02  35533.95  35677.02  377998070\n",
       "2021-10-21  35520.32  35612.36  35442.53  35603.08  341046446\n",
       "2021-10-20  35475.16  35669.69  35465.71  35609.34  301816501\n",
       "2021-10-19  35325.37  35462.68  35290.12  35457.31  314648025\n",
       "2021-10-18  35221.02  35327.57  35035.94  35258.61  358473544"
      ]
     },
     "execution_count": 12,
     "metadata": {},
     "output_type": "execute_result"
    }
   ],
   "source": [
    "import pandas_datareader.data as web\n",
    "\n",
    "f = web.DataReader('^DJI', 'stooq')\n",
    "f.head()"
   ]
  },
  {
   "cell_type": "markdown",
   "metadata": {},
   "source": [
    "### Data from Nasdaq Trader Symbol Definitions\n",
    "\n",
    "Download the latest symbols from Nasdaq.\n",
    "\n",
    "Note that Nasdaq updates this file daily, and historical versions are not available. More information on the field definitions."
   ]
  },
  {
   "cell_type": "code",
   "execution_count": 7,
   "metadata": {
    "collapsed": true,
    "jupyter": {
     "outputs_hidden": true
    }
   },
   "outputs": [
    {
     "data": {
      "text/html": [
       "<div>\n",
       "<style scoped>\n",
       "    .dataframe tbody tr th:only-of-type {\n",
       "        vertical-align: middle;\n",
       "    }\n",
       "\n",
       "    .dataframe tbody tr th {\n",
       "        vertical-align: top;\n",
       "    }\n",
       "\n",
       "    .dataframe thead th {\n",
       "        text-align: right;\n",
       "    }\n",
       "</style>\n",
       "<table border=\"1\" class=\"dataframe\">\n",
       "  <thead>\n",
       "    <tr style=\"text-align: right;\">\n",
       "      <th></th>\n",
       "      <th>Nasdaq Traded</th>\n",
       "      <th>Security Name</th>\n",
       "      <th>Listing Exchange</th>\n",
       "      <th>Market Category</th>\n",
       "      <th>ETF</th>\n",
       "      <th>Round Lot Size</th>\n",
       "      <th>Test Issue</th>\n",
       "      <th>Financial Status</th>\n",
       "      <th>CQS Symbol</th>\n",
       "      <th>NASDAQ Symbol</th>\n",
       "      <th>NextShares</th>\n",
       "    </tr>\n",
       "    <tr>\n",
       "      <th>Symbol</th>\n",
       "      <th></th>\n",
       "      <th></th>\n",
       "      <th></th>\n",
       "      <th></th>\n",
       "      <th></th>\n",
       "      <th></th>\n",
       "      <th></th>\n",
       "      <th></th>\n",
       "      <th></th>\n",
       "      <th></th>\n",
       "      <th></th>\n",
       "    </tr>\n",
       "  </thead>\n",
       "  <tbody>\n",
       "    <tr>\n",
       "      <th>A</th>\n",
       "      <td>True</td>\n",
       "      <td>Agilent Technologies, Inc. Common Stock</td>\n",
       "      <td>N</td>\n",
       "      <td></td>\n",
       "      <td>False</td>\n",
       "      <td>100.0</td>\n",
       "      <td>False</td>\n",
       "      <td>NaN</td>\n",
       "      <td>A</td>\n",
       "      <td>A</td>\n",
       "      <td>False</td>\n",
       "    </tr>\n",
       "    <tr>\n",
       "      <th>AA</th>\n",
       "      <td>True</td>\n",
       "      <td>Alcoa Corporation Common Stock</td>\n",
       "      <td>N</td>\n",
       "      <td></td>\n",
       "      <td>False</td>\n",
       "      <td>100.0</td>\n",
       "      <td>False</td>\n",
       "      <td>NaN</td>\n",
       "      <td>AA</td>\n",
       "      <td>AA</td>\n",
       "      <td>False</td>\n",
       "    </tr>\n",
       "    <tr>\n",
       "      <th>AAA</th>\n",
       "      <td>True</td>\n",
       "      <td>Listed Funds Trust AAF First Priority CLO Bond...</td>\n",
       "      <td>P</td>\n",
       "      <td></td>\n",
       "      <td>True</td>\n",
       "      <td>100.0</td>\n",
       "      <td>False</td>\n",
       "      <td>NaN</td>\n",
       "      <td>AAA</td>\n",
       "      <td>AAA</td>\n",
       "      <td>False</td>\n",
       "    </tr>\n",
       "    <tr>\n",
       "      <th>AAAU</th>\n",
       "      <td>True</td>\n",
       "      <td>Goldman Sachs Physical Gold ETF Shares</td>\n",
       "      <td>P</td>\n",
       "      <td></td>\n",
       "      <td>True</td>\n",
       "      <td>100.0</td>\n",
       "      <td>False</td>\n",
       "      <td>NaN</td>\n",
       "      <td>AAAU</td>\n",
       "      <td>AAAU</td>\n",
       "      <td>False</td>\n",
       "    </tr>\n",
       "    <tr>\n",
       "      <th>AAC</th>\n",
       "      <td>True</td>\n",
       "      <td>Ares Acquisition Corporation Class A Ordinary ...</td>\n",
       "      <td>N</td>\n",
       "      <td></td>\n",
       "      <td>False</td>\n",
       "      <td>100.0</td>\n",
       "      <td>False</td>\n",
       "      <td>NaN</td>\n",
       "      <td>AAC</td>\n",
       "      <td>AAC</td>\n",
       "      <td>False</td>\n",
       "    </tr>\n",
       "    <tr>\n",
       "      <th>...</th>\n",
       "      <td>...</td>\n",
       "      <td>...</td>\n",
       "      <td>...</td>\n",
       "      <td>...</td>\n",
       "      <td>...</td>\n",
       "      <td>...</td>\n",
       "      <td>...</td>\n",
       "      <td>...</td>\n",
       "      <td>...</td>\n",
       "      <td>...</td>\n",
       "      <td>...</td>\n",
       "    </tr>\n",
       "    <tr>\n",
       "      <th>ZXZZT</th>\n",
       "      <td>True</td>\n",
       "      <td>NASDAQ TEST STOCK</td>\n",
       "      <td>Q</td>\n",
       "      <td>G</td>\n",
       "      <td>False</td>\n",
       "      <td>100.0</td>\n",
       "      <td>True</td>\n",
       "      <td>N</td>\n",
       "      <td>NaN</td>\n",
       "      <td>ZXZZT</td>\n",
       "      <td>False</td>\n",
       "    </tr>\n",
       "    <tr>\n",
       "      <th>ZY</th>\n",
       "      <td>True</td>\n",
       "      <td>Zymergen Inc. - Common Stock</td>\n",
       "      <td>Q</td>\n",
       "      <td>Q</td>\n",
       "      <td>False</td>\n",
       "      <td>100.0</td>\n",
       "      <td>False</td>\n",
       "      <td>N</td>\n",
       "      <td>NaN</td>\n",
       "      <td>ZY</td>\n",
       "      <td>False</td>\n",
       "    </tr>\n",
       "    <tr>\n",
       "      <th>ZYME</th>\n",
       "      <td>True</td>\n",
       "      <td>Zymeworks Inc. Common Shares</td>\n",
       "      <td>N</td>\n",
       "      <td></td>\n",
       "      <td>False</td>\n",
       "      <td>100.0</td>\n",
       "      <td>False</td>\n",
       "      <td>NaN</td>\n",
       "      <td>ZYME</td>\n",
       "      <td>ZYME</td>\n",
       "      <td>False</td>\n",
       "    </tr>\n",
       "    <tr>\n",
       "      <th>ZYNE</th>\n",
       "      <td>True</td>\n",
       "      <td>Zynerba Pharmaceuticals, Inc. - Common Stock</td>\n",
       "      <td>Q</td>\n",
       "      <td>G</td>\n",
       "      <td>False</td>\n",
       "      <td>100.0</td>\n",
       "      <td>False</td>\n",
       "      <td>N</td>\n",
       "      <td>NaN</td>\n",
       "      <td>ZYNE</td>\n",
       "      <td>False</td>\n",
       "    </tr>\n",
       "    <tr>\n",
       "      <th>ZYXI</th>\n",
       "      <td>True</td>\n",
       "      <td>Zynex, Inc. - Common Stock</td>\n",
       "      <td>Q</td>\n",
       "      <td>Q</td>\n",
       "      <td>False</td>\n",
       "      <td>100.0</td>\n",
       "      <td>False</td>\n",
       "      <td>N</td>\n",
       "      <td>NaN</td>\n",
       "      <td>ZYXI</td>\n",
       "      <td>False</td>\n",
       "    </tr>\n",
       "  </tbody>\n",
       "</table>\n",
       "<p>11336 rows × 11 columns</p>\n",
       "</div>"
      ],
      "text/plain": [
       "        Nasdaq Traded                                      Security Name  \\\n",
       "Symbol                                                                     \n",
       "A                True            Agilent Technologies, Inc. Common Stock   \n",
       "AA               True                    Alcoa Corporation Common Stock    \n",
       "AAA              True  Listed Funds Trust AAF First Priority CLO Bond...   \n",
       "AAAU             True             Goldman Sachs Physical Gold ETF Shares   \n",
       "AAC              True  Ares Acquisition Corporation Class A Ordinary ...   \n",
       "...               ...                                                ...   \n",
       "ZXZZT            True                                  NASDAQ TEST STOCK   \n",
       "ZY               True                       Zymergen Inc. - Common Stock   \n",
       "ZYME             True                       Zymeworks Inc. Common Shares   \n",
       "ZYNE             True       Zynerba Pharmaceuticals, Inc. - Common Stock   \n",
       "ZYXI             True                         Zynex, Inc. - Common Stock   \n",
       "\n",
       "       Listing Exchange Market Category    ETF  Round Lot Size  Test Issue  \\\n",
       "Symbol                                                                       \n",
       "A                     N                  False           100.0       False   \n",
       "AA                    N                  False           100.0       False   \n",
       "AAA                   P                   True           100.0       False   \n",
       "AAAU                  P                   True           100.0       False   \n",
       "AAC                   N                  False           100.0       False   \n",
       "...                 ...             ...    ...             ...         ...   \n",
       "ZXZZT                 Q               G  False           100.0        True   \n",
       "ZY                    Q               Q  False           100.0       False   \n",
       "ZYME                  N                  False           100.0       False   \n",
       "ZYNE                  Q               G  False           100.0       False   \n",
       "ZYXI                  Q               Q  False           100.0       False   \n",
       "\n",
       "       Financial Status CQS Symbol NASDAQ Symbol  NextShares  \n",
       "Symbol                                                        \n",
       "A                   NaN          A             A       False  \n",
       "AA                  NaN         AA            AA       False  \n",
       "AAA                 NaN        AAA           AAA       False  \n",
       "AAAU                NaN       AAAU          AAAU       False  \n",
       "AAC                 NaN        AAC           AAC       False  \n",
       "...                 ...        ...           ...         ...  \n",
       "ZXZZT                 N        NaN         ZXZZT       False  \n",
       "ZY                    N        NaN            ZY       False  \n",
       "ZYME                NaN       ZYME          ZYME       False  \n",
       "ZYNE                  N        NaN          ZYNE       False  \n",
       "ZYXI                  N        NaN          ZYXI       False  \n",
       "\n",
       "[11336 rows x 11 columns]"
      ]
     },
     "execution_count": 7,
     "metadata": {},
     "output_type": "execute_result"
    }
   ],
   "source": [
    "import pandas_datareader as pdr\n",
    "\n",
    "df = pdr.nasdaq_trader.get_nasdaq_symbols()\n",
    "df"
   ]
  },
  {
   "cell_type": "code",
   "execution_count": 6,
   "metadata": {
    "collapsed": true,
    "jupyter": {
     "outputs_hidden": true
    }
   },
   "outputs": [
    {
     "data": {
      "text/plain": [
       "Nasdaq Traded                                                    True\n",
       "Security Name       International Business Machines Corporation Co...\n",
       "Listing Exchange                                                    N\n",
       "Market Category                                                      \n",
       "ETF                                                             False\n",
       "Round Lot Size                                                  100.0\n",
       "Test Issue                                                      False\n",
       "Financial Status                                                  NaN\n",
       "CQS Symbol                                                        IBM\n",
       "NASDAQ Symbol                                                     IBM\n",
       "NextShares                                                      False\n",
       "Name: IBM, dtype: object"
      ]
     },
     "execution_count": 6,
     "metadata": {},
     "output_type": "execute_result"
    }
   ],
   "source": [
    "df.loc['IBM']"
   ]
  },
  {
   "cell_type": "markdown",
   "metadata": {},
   "source": [
    "#### Data from Yahoo\n",
    "\n",
    "A substitute：[yahoofinancials API](https://pypi.org/project/yahoofinancials/)"
   ]
  },
  {
   "cell_type": "code",
   "execution_count": 8,
   "metadata": {},
   "outputs": [
    {
     "data": {
      "text/html": [
       "<div>\n",
       "<style scoped>\n",
       "    .dataframe tbody tr th:only-of-type {\n",
       "        vertical-align: middle;\n",
       "    }\n",
       "\n",
       "    .dataframe tbody tr th {\n",
       "        vertical-align: top;\n",
       "    }\n",
       "\n",
       "    .dataframe thead th {\n",
       "        text-align: right;\n",
       "    }\n",
       "</style>\n",
       "<table border=\"1\" class=\"dataframe\">\n",
       "  <thead>\n",
       "    <tr style=\"text-align: right;\">\n",
       "      <th></th>\n",
       "      <th>High</th>\n",
       "      <th>Low</th>\n",
       "      <th>Open</th>\n",
       "      <th>Close</th>\n",
       "      <th>Volume</th>\n",
       "      <th>Adj Close</th>\n",
       "    </tr>\n",
       "    <tr>\n",
       "      <th>Date</th>\n",
       "      <th></th>\n",
       "      <th></th>\n",
       "      <th></th>\n",
       "      <th></th>\n",
       "      <th></th>\n",
       "      <th></th>\n",
       "    </tr>\n",
       "  </thead>\n",
       "  <tbody>\n",
       "    <tr>\n",
       "      <th>2021-10-18</th>\n",
       "      <td>144.940002</td>\n",
       "      <td>141.759995</td>\n",
       "      <td>144.000000</td>\n",
       "      <td>142.320007</td>\n",
       "      <td>6154100.0</td>\n",
       "      <td>142.320007</td>\n",
       "    </tr>\n",
       "    <tr>\n",
       "      <th>2021-10-19</th>\n",
       "      <td>142.940002</td>\n",
       "      <td>140.520004</td>\n",
       "      <td>141.080002</td>\n",
       "      <td>141.979996</td>\n",
       "      <td>4339500.0</td>\n",
       "      <td>141.979996</td>\n",
       "    </tr>\n",
       "    <tr>\n",
       "      <th>2021-10-20</th>\n",
       "      <td>142.199997</td>\n",
       "      <td>140.699997</td>\n",
       "      <td>141.679993</td>\n",
       "      <td>141.899994</td>\n",
       "      <td>6189300.0</td>\n",
       "      <td>141.899994</td>\n",
       "    </tr>\n",
       "    <tr>\n",
       "      <th>2021-10-21</th>\n",
       "      <td>133.720001</td>\n",
       "      <td>128.100006</td>\n",
       "      <td>133.509995</td>\n",
       "      <td>128.330002</td>\n",
       "      <td>31466500.0</td>\n",
       "      <td>128.330002</td>\n",
       "    </tr>\n",
       "    <tr>\n",
       "      <th>2021-10-22</th>\n",
       "      <td>130.250000</td>\n",
       "      <td>126.610001</td>\n",
       "      <td>128.050003</td>\n",
       "      <td>127.879997</td>\n",
       "      <td>11569200.0</td>\n",
       "      <td>127.879997</td>\n",
       "    </tr>\n",
       "  </tbody>\n",
       "</table>\n",
       "</div>"
      ],
      "text/plain": [
       "                  High         Low        Open       Close      Volume  \\\n",
       "Date                                                                     \n",
       "2021-10-18  144.940002  141.759995  144.000000  142.320007   6154100.0   \n",
       "2021-10-19  142.940002  140.520004  141.080002  141.979996   4339500.0   \n",
       "2021-10-20  142.199997  140.699997  141.679993  141.899994   6189300.0   \n",
       "2021-10-21  133.720001  128.100006  133.509995  128.330002  31466500.0   \n",
       "2021-10-22  130.250000  126.610001  128.050003  127.879997  11569200.0   \n",
       "\n",
       "             Adj Close  \n",
       "Date                    \n",
       "2021-10-18  142.320007  \n",
       "2021-10-19  141.979996  \n",
       "2021-10-20  141.899994  \n",
       "2021-10-21  128.330002  \n",
       "2021-10-22  127.879997  "
      ]
     },
     "execution_count": 8,
     "metadata": {},
     "output_type": "execute_result"
    }
   ],
   "source": [
    "# Get data from Yahoo\n",
    "import pandas as pd\n",
    "import pandas_datareader.data as web\n",
    "import datetime\n",
    "start = datetime.datetime(2019, 1, 1) # or start = '1/1/2016'\n",
    "end = datetime.date.today()\n",
    "prices = web.DataReader('IBM', 'yahoo', start, end)\n",
    "prices.tail()\n",
    "\n",
    "# df = web.DataReader('GE', 'yahoo', start='2019-09-10', end='2019-10-30')\n",
    "# df.head()"
   ]
  },
  {
   "cell_type": "markdown",
   "metadata": {},
   "source": [
    "**Exercise：**\n",
    "\n",
    "- 请大家结合上述实例，使用pandas-datareader从oecd获取名称为‘TUD’的数据集。"
   ]
  },
  {
   "cell_type": "markdown",
   "metadata": {},
   "source": [
    "### tushare\n",
    "\n",
    "https://tushare.pro/document/2\n",
    "\n",
    "- 下载安装\n",
    "\n",
    "`pip install tushare`\n",
    "\n",
    "如果安装网络超时可尝试国内pip源，如pip install tushare -i https://pypi.tuna.tsinghua.edu.cn/simple\n",
    "\n",
    "- 版本升级\n",
    "\n",
    "`pip install tushare --upgrade`\n",
    "\n",
    "- 查看当前版本\n",
    "\n",
    "`import tushare`  \n",
    "`print(tushare.__version__)`"
   ]
  },
  {
   "cell_type": "code",
   "execution_count": 27,
   "metadata": {
    "collapsed": true,
    "jupyter": {
     "outputs_hidden": true
    }
   },
   "outputs": [
    {
     "name": "stdout",
     "output_type": "stream",
     "text": [
      "       ts_code trade_date   open   high    low  close  pre_close  change  \\\n",
      "0    000001.SZ   20200717  14.17  14.28  13.95  14.14      14.15   -0.01   \n",
      "1    000001.SZ   20200716  14.30  14.55  14.12  14.15      14.27   -0.12   \n",
      "2    000001.SZ   20200715  14.78  14.86  14.23  14.27      14.68   -0.41   \n",
      "3    000001.SZ   20200714  14.90  15.19  14.55  14.68      14.89   -0.21   \n",
      "4    000001.SZ   20200713  14.70  15.08  14.50  14.89      14.86    0.03   \n",
      "..         ...        ...    ...    ...    ...    ...        ...     ...   \n",
      "493  000001.SZ   20180706   8.61   8.78   8.45   8.66       8.60    0.06   \n",
      "494  000001.SZ   20180705   8.62   8.73   8.55   8.60       8.61   -0.01   \n",
      "495  000001.SZ   20180704   8.63   8.75   8.61   8.61       8.67   -0.06   \n",
      "496  000001.SZ   20180703   8.69   8.70   8.45   8.67       8.61    0.06   \n",
      "497  000001.SZ   20180702   9.05   9.05   8.55   8.61       9.09   -0.48   \n",
      "\n",
      "     pct_chg         vol       amount  \n",
      "0    -0.0707  1291346.77  1821043.927  \n",
      "1    -0.8409  1930891.29  2771496.391  \n",
      "2    -2.7929  2042562.83  2947173.149  \n",
      "3    -1.4103  1953566.27  2891773.817  \n",
      "4     0.2019  1937160.12  2871414.844  \n",
      "..       ...         ...          ...  \n",
      "493   0.7000   988282.69   852071.526  \n",
      "494  -0.1200   835768.77   722169.579  \n",
      "495  -0.6900   711153.37   617278.559  \n",
      "496   0.7000  1274838.57  1096657.033  \n",
      "497  -5.2800  1315520.13  1158545.868  \n",
      "\n",
      "[498 rows x 11 columns]\n"
     ]
    }
   ],
   "source": [
    "import tushare as ts\n",
    "\n",
    "# 请在 tushare.pro 网站注册并且告知学生身份，可以取得你的token\n",
    "tushare_token = '1c8b06446534ae510c8c68e38fc248b99f89ac3814cb55645ae2be72'  \n",
    "pro = ts.pro_api(tushare_token)\n",
    "\n",
    "df = pro.daily(ts_code='000001.SZ', start_date='20180701', end_date='20200718')\n",
    "\n",
    "print(df)"
   ]
  },
  {
   "cell_type": "markdown",
   "metadata": {},
   "source": [
    "### AKshare\n",
    "\n",
    "- 安装：`pip install akshare`\n",
    "\n",
    "- [官网](https://www.akshare.xyz/)\n",
    "\n",
    "示例："
   ]
  },
  {
   "cell_type": "code",
   "execution_count": 45,
   "metadata": {},
   "outputs": [
    {
     "data": {
      "image/png": "[encoded data removed]",
      "text/plain": [
       "<Figure size 800x575 with 4 Axes>"
      ]
     },
     "metadata": {},
     "output_type": "display_data"
    }
   ],
   "source": [
    "import akshare as ak\n",
    "import mplfinance as mpf  # Please install mplfinance as follows: pip install mplfinance\n",
    "\n",
    "stock_us_daily_df = ak.stock_us_daily(symbol=\"AAPL\", adjust=\"qfq\")\n",
    "stock_us_daily_df = stock_us_daily_df[[\"open\", \"high\", \"low\", \"close\", \"volume\"]]\n",
    "stock_us_daily_df.columns = [\"Open\", \"High\", \"Low\", \"Close\", \"Volume\"]\n",
    "stock_us_daily_df.index.name = \"Date\"\n",
    "stock_us_daily_df = stock_us_daily_df[\"2020-04-01\": \"2020-04-29\"]\n",
    "mpf.plot(stock_us_daily_df, type='candle', mav=(3, 6, 9), volume=True, show_nontrading=False)"
   ]
  },
  {
   "cell_type": "markdown",
   "metadata": {},
   "source": [
    "### BaoStock\n",
    "\n",
    "- 安装：`pip install baostock`\n",
    "\n",
    "- [官网](http://baostock.com/baostock/index.php/%E9%A6%96%E9%A1%B5)\n",
    "\n",
    "示例："
   ]
  },
  {
   "cell_type": "code",
   "execution_count": 43,
   "metadata": {},
   "outputs": [
    {
     "name": "stdout",
     "output_type": "stream",
     "text": [
      "login success!\n",
      "login respond error_code:0\n",
      "login respond  error_msg:success\n",
      "query_history_k_data_plus respond error_code:0\n",
      "query_history_k_data_plus respond  error_msg:success\n",
      "           date       code       open       high        low      close  \\\n",
      "0    2017-01-03  sh.000001  3105.3080  3136.4550  3105.3080  3135.9200   \n",
      "1    2017-01-04  sh.000001  3133.7870  3160.1020  3130.1140  3158.7940   \n",
      "2    2017-01-05  sh.000001  3157.9060  3168.5020  3154.2810  3165.4100   \n",
      "3    2017-01-06  sh.000001  3163.7760  3172.0340  3153.0250  3154.3210   \n",
      "4    2017-01-09  sh.000001  3148.5310  3173.1360  3147.7350  3171.2360   \n",
      "..          ...        ...        ...        ...        ...        ...   \n",
      "114  2017-06-26  sh.000001  3157.0020  3187.8890  3156.9760  3185.4430   \n",
      "115  2017-06-27  sh.000001  3183.4190  3193.4610  3172.4630  3191.1960   \n",
      "116  2017-06-28  sh.000001  3183.6330  3193.4390  3170.7850  3173.2010   \n",
      "117  2017-06-29  sh.000001  3174.9810  3188.7740  3174.2830  3188.0620   \n",
      "118  2017-06-30  sh.000001  3176.9480  3193.2410  3171.5700  3192.4260   \n",
      "\n",
      "      preclose       volume             amount     pctChg  \n",
      "0    3103.6370  14156718592  159887138816.0000   1.040200  \n",
      "1    3135.9200  16786085120  195914293248.0000   0.729400  \n",
      "2    3158.7940  17472764416  199692025856.0000   0.209400  \n",
      "3    3165.4100  18370896640  207296036864.0000  -0.350300  \n",
      "4    3154.3210  17171407616  192110579712.0000   0.536200  \n",
      "..         ...          ...                ...        ...  \n",
      "114  3157.8730  17357921024  200419303424.0000   0.873100  \n",
      "115  3185.4430  14820119808  167523799040.0000   0.180600  \n",
      "116  3191.1960  14651672064  162081099776.0000  -0.563900  \n",
      "117  3173.2010  12875547136  147249799168.0000   0.468300  \n",
      "118  3188.0630  12146454272  143195602944.0000   0.136900  \n",
      "\n",
      "[119 rows x 10 columns]\n",
      "logout success!\n"
     ]
    },
    {
     "data": {
      "text/plain": [
       "<baostock.data.resultset.ResultData at 0x2afe3a43c08>"
      ]
     },
     "execution_count": 43,
     "metadata": {},
     "output_type": "execute_result"
    }
   ],
   "source": [
    "import baostock as bs\n",
    "import pandas as pd\n",
    "\n",
    "# 登陆系统\n",
    "lg = bs.login()\n",
    "# 显示登陆返回信息\n",
    "print('login respond error_code:'+lg.error_code)\n",
    "print('login respond  error_msg:'+lg.error_msg)\n",
    "\n",
    "# 获取指数(综合指数、规模指数、一级行业指数、二级行业指数、策略指数、成长指数、价值指数、主题指数)K线数据\n",
    "# 综合指数，例如：sh.000001 上证指数，sz.399106 深证综指 等；\n",
    "# 规模指数，例如：sh.000016 上证50，sh.000300 沪深300，sh.000905 中证500，sz.399001 深证成指等；\n",
    "# 一级行业指数，例如：sh.000037 上证医药，sz.399433 国证交运 等；\n",
    "# 二级行业指数，例如：sh.000952 300地产，sz.399951 300银行 等；\n",
    "# 策略指数，例如：sh.000050 50等权，sh.000982 500等权 等；\n",
    "# 成长指数，例如：sz.399376 小盘成长 等；\n",
    "# 价值指数，例如：sh.000029 180价值 等；\n",
    "# 主题指数，例如：sh.000015 红利指数，sh.000063 上证周期 等；\n",
    "\n",
    "\n",
    "# 详细指标参数，参见“历史行情指标参数”章节；“周月线”参数与“日线”参数不同。\n",
    "# 周月线指标：date,code,open,high,low,close,volume,amount,adjustflag,turn,pctChg\n",
    "rs = bs.query_history_k_data_plus(\"sh.000001\",\n",
    "    \"date,code,open,high,low,close,preclose,volume,amount,pctChg\",\n",
    "    start_date='2017-01-01', end_date='2017-06-30', frequency=\"d\")\n",
    "print('query_history_k_data_plus respond error_code:'+rs.error_code)\n",
    "print('query_history_k_data_plus respond  error_msg:'+rs.error_msg)\n",
    "\n",
    "# df=rs.get_data()\n",
    "# 打印结果集\n",
    "data_list = []\n",
    "while (rs.error_code == '0') & rs.next():\n",
    "    # 获取一条记录，将记录合并在一起\n",
    "    data_list.append(rs.get_row_data())\n",
    "result = pd.DataFrame(data_list, columns=rs.fields)\n",
    "# 结果集输出到csv文件\n",
    "result.to_csv(\"history_Index_k_data.csv\", index=False)\n",
    "print(result)\n",
    "\n",
    "# 登出系统\n",
    "bs.logout()"
   ]
  },
  {
   "cell_type": "markdown",
   "metadata": {},
   "source": [
    "### Fixer.io\n",
    "\n",
    "Fixer API由15个以上的汇率数据源提供支持，能够提供170种世界货币的实时汇率数据。API附带多个端点，每个端点服务于不同的用例。端点功能包括获取所有或特定货币集的最新汇率数据、将金额从一种货币转换为另一种货币、检索一种或多种货币的时间序列数据以及查询API以获取每日波动数据。  \n",
    "在本文档中，您将了解API结构、方法、潜在错误和代码示例。如果有任何问题没有答案，请务必联系我们，我们的团队将乐意提供帮助。\n",
    "https://fixer.io/documentation\n",
    "\n",
    "**You need to sign in and get an access key to kick off** "
   ]
  },
  {
   "cell_type": "code",
   "execution_count": 26,
   "metadata": {},
   "outputs": [
    {
     "name": "stdin",
     "output_type": "stream",
     "text": [
      "Please input a date with a proper format YYYY-MM-DD: 2020-01-10\n"
     ]
    },
    {
     "name": "stdout",
     "output_type": "stream",
     "text": [
      "Exchange Rate on 2020-01-10:\n",
      "1 USD = 1.111971 EUR\n",
      "1 AUD = 1.611471 EUR\n",
      "1 CAD = 1.451323 EUR\n",
      "1 CNY = 7.69451 EUR\n",
      "1 CHF = 1.081752 EUR\n",
      "1 GBP = 0.851172 EUR\n",
      "1 HKD = 8.636178 EUR\n"
     ]
    }
   ],
   "source": [
    "def get_fixer_hist(date, symbols = 'USD,AUD,CAD,CNY,CHF,GBP,HKD'):\n",
    "    import requests\n",
    "    import json\n",
    "    # get the data from fixerAPI\n",
    "    # You need to sign in to obtain a free access_key \n",
    "    access_key = '0287efab831449699ce8333ec5307d00'\n",
    "    root_url = 'http://data.fixer.io/api/'\n",
    "    # Make the URL\n",
    "    url = root_url + date +'?'+ 'access_key='+ access_key + '&symbols=' + symbols + '&format=1'\n",
    "    # Creat a header\n",
    "    headers = {'User-Agent': 'Mozilla/5.0 (Windows; U; Windows NT 6.1; en-US) AppleWebKit/534.16 (KHTML, like Gecko) Chrome/10.0.648.133 Safari/534.16'}\n",
    "    # request data from API\n",
    "    res = requests.get(url, headers = headers)\n",
    "    # Get content, in case of Chinese we need to encode\n",
    "    content = res.text\n",
    "    # Load JSON data\n",
    "    dcon = json.loads(content)\n",
    "    return dcon['date'], dcon['rates'], url\n",
    "\n",
    "dat = input('Please input a date with a proper format YYYY-MM-DD:')\n",
    "date, rates, url = get_fixer_hist(dat)\n",
    "print('Exchange Rate on {}:'.format(date))\n",
    "for key,values in rates.items():\n",
    "    print('1 '+ key +' = '+ str(values) +' EUR')"
   ]
  },
  {
   "cell_type": "markdown",
   "metadata": {},
   "source": [
    "#### requests第三方库\n",
    "\n",
    "The requests module allows you to send HTTP requests using Python.\n",
    "\n",
    "The HTTP request returns a `Response Object` with all the response data (content, encoding, status, etc).\n",
    "\n",
    "\n",
    "Detail: https://requests.readthedocs.io/en/master/"
   ]
  },
  {
   "cell_type": "code",
   "execution_count": null,
   "metadata": {},
   "outputs": [],
   "source": [
    "import requests\n",
    "\n",
    "r=requests.get(\"http://www.baidu.com\")\n",
    "r.status_code\n",
    "r.encoding='utf-8'\n",
    "r.text\n"
   ]
  },
  {
   "cell_type": "markdown",
   "metadata": {},
   "source": [
    "#### requests库的7种方法\n",
    "```\n",
    "requests.requests()   构造一个请求，支撑以下各方法的基础方法\n",
    "requests.get()        获取HTML网页的主要方法\n",
    "requests.head()       获取HTML网页头部信息的方法\n",
    "requests.post()\n",
    "requests.put()\n",
    "requests.patch()\n",
    "requests.delete()\n",
    "```"
   ]
  },
  {
   "cell_type": "markdown",
   "metadata": {},
   "source": [
    "**Syntax：** `r = requests.get(url, params=None, kwargs)`\n",
    "```\n",
    "url: 拟获取页面的url链接；\n",
    "params：url中的额外参数，字典或字节流格式，可选；\n",
    "kwargs：12个控制访问的参数\n",
    "```\n",
    "**Reponse对象的属性：**\n",
    "```\n",
    "r.status_code HTTP请求的返回状态，200表示成功，404表示失败\n",
    "r.text HTTP响应内容的字符串形式，即，url对应的页面内容\n",
    "r.encoding 从HTTP header中猜测的响应内容编码方式\n",
    "r.apparent_encoding 从内容中分析出的响应内容编码方式（备选编码方式）\n",
    "r.content HTTP响应内容的二进制形式\n",
    "```"
   ]
  },
  {
   "cell_type": "markdown",
   "metadata": {},
   "source": [
    "**Exercise：**\n",
    "    \n",
    "- 请大家使用requests库去获取你感兴趣的网页，并查看response对象的属性。\n",
    "- 思考如何使用urllib库实现上述功能。"
   ]
  },
  {
   "cell_type": "markdown",
   "metadata": {},
   "source": [
    "#### JSON\n",
    "\n",
    "JSON(JavaScript Object Notation, JS 对象表示法) 是一种轻量级的数据交换格式。它基于 ECMAScript (欧洲计算机协会制定的js规范)的一个子集，采用完全独立于编程语言的文本格式来存储和表示数据。简洁和清晰的层次结构使得 JSON 成为理想的数据交换语言。 易于人阅读和编写，同时也易于机器解析和生成，并有效地提升网络传输效率。\n",
    "\n",
    "Python3 中可以使用 json 模块来对 JSON 数据进行编解码，它包含了两个函数：\n",
    "\n",
    "- json.dumps(): 对数据进行编码。\n",
    "- json.loads(): 对数据进行解码。"
   ]
  },
  {
   "cell_type": "markdown",
   "metadata": {},
   "source": [
    "**Exercise:**\n",
    "\n",
    "- 阅读上述代码，并尝试从fixerAPI获取最新一日的美元兑欧元汇率。"
   ]
  },
  {
   "cell_type": "markdown",
   "metadata": {},
   "source": [
    "### 思考\n",
    "\n",
    "- 从tushare下载到股票的日线行情数据后，如何将返回的trade_date作为数据的index？对于数据中的缺失值和异常值应如何处理？\n",
    "\n",
    "- 在使用requests获取网页的时候，不同的网页是否会报错？应如何处理？"
   ]
  },
  {
   "cell_type": "code",
   "execution_count": null,
   "metadata": {},
   "outputs": [],
   "source": []
  }
 ],
 "metadata": {
  "kernelspec": {
   "display_name": "Python 3",
   "language": "python",
   "name": "python3"
  },
  "language_info": {
   "codemirror_mode": {
    "name": "ipython",
    "version": 3
   },
   "file_extension": ".py",
   "mimetype": "text/x-python",
   "name": "python",
   "nbconvert_exporter": "python",
   "pygments_lexer": "ipython3",
   "version": "3.7.9"
  }
 },
 "nbformat": 4,
 "nbformat_minor": 4
}