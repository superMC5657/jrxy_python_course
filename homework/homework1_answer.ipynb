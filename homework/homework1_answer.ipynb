{
 "cells": [
  {
   "cell_type": "markdown",
   "metadata": {},
   "source": [
    "#### Answer for homework1"
   ]
  },
  {
   "cell_type": "code",
   "execution_count": null,
   "metadata": {},
   "outputs": [],
   "source": [
    "import numpy as np\n",
    "\n",
    "#### 创建一个10x10的ndarray对象，且矩阵边界全为1，里面全为0\n",
    "\n",
    "nd = np.ones((10,10))\n",
    "nd[1:-1,1:-1] = 0\n",
    "nd"
   ]
  },
  {
   "cell_type": "code",
   "execution_count": null,
   "metadata": {},
   "outputs": [],
   "source": [
    "#### 创建一个每一行都是从0到4的5x5矩阵\n",
    "\n",
    "nd = np.arange(5)\n",
    "nd = np.tile(nd, 5).reshape(5,-1)\n",
    "nd"
   ]
  },
  {
   "cell_type": "code",
   "execution_count": null,
   "metadata": {},
   "outputs": [],
   "source": [
    "#### 创建一个长度为10的随机数组并将最大值替换为0\n",
    "   \n",
    "nd = np.random.random(10)\n",
    "print(nd)\n",
    "nd[nd.argmax()]= 0\n",
    "print(nd)"
   ]
  },
  {
   "cell_type": "code",
   "execution_count": null,
   "metadata": {},
   "outputs": [],
   "source": [
    "#### 随机生成长度为10的数组，并在这个数组的每个元素之间插入3个0，得到一个新数组\n",
    "   \n",
    "nd1 = np.random.random(10)\n",
    "nd2 = np.zeros(len(nd1)*4)\n",
    "nd2[::4] = nd1\n",
    "nd = nd2[:-3]\n",
    "nd"
   ]
  },
  {
   "cell_type": "code",
   "execution_count": null,
   "metadata": {},
   "outputs": [],
   "source": [
    "#### 正则化一个5x5的随机矩阵\n",
    "#### 正则化：假设a是矩阵中的一个元素，max/min分别是矩阵元素的最大最小值，则正则化后a = (a - min)/(max - min)\n",
    "    \n",
    "nd = np.random.randint(0,10,(5,5))\n",
    "print(nd)\n",
    "nd = (nd-nd.min())/(nd.max()-nd.min())\n",
    "print(np.around(nd,2))"
   ]
  },
  {
   "cell_type": "code",
   "execution_count": null,
   "metadata": {},
   "outputs": [],
   "source": [
    "#### 随机生成5x5的矩阵，令矩阵的每一行的元素都减去该行的平均值\n",
    "\n",
    "nd = np.random.randint(0,10,(5,5))\n",
    "print(nd)\n",
    "print(nd.mean(axis=1))\n",
    "nd = nd - nd.mean(axis=1).reshape(len(nd), -1)\n",
    "print(nd)"
   ]
  },
  {
   "cell_type": "code",
   "execution_count": null,
   "metadata": {},
   "outputs": [],
   "source": [
    "#### 创建一个5x3随机矩阵和一个3x2随机矩阵，求矩阵积\n",
    "\n",
    "nd1 = np.random.randint(0,10,(5,3))\n",
    "nd2 = np.random.randint(0,10,(3,2))\n",
    "\n",
    "nd = np.dot(nd1, nd2)\n",
    "nd"
   ]
  },
  {
   "cell_type": "code",
   "execution_count": null,
   "metadata": {},
   "outputs": [],
   "source": [
    "#### 根据第3列来对一个5x5的随机矩阵排序\n",
    "\n",
    "nd = np.random.randint(0,10,(5,5))\n",
    "print(nd)\n",
    "nd = nd[np.argsort(nd[:,2])]\n",
    "nd"
   ]
  },
  {
   "cell_type": "code",
   "execution_count": null,
   "metadata": {},
   "outputs": [],
   "source": [
    "import pandas as pd\n",
    "import numpy as np\n",
    "\n",
    "#### 已知 df = pd.DataFrame({'A': [1, 2, 2, 3, 4, 5, 5, 5, 6, 7, 7]})，对于该DataFrame，删除数值重复的行\n",
    "\n",
    "df = pd.DataFrame({'A': [1,2,2,3,4,5,5,5,6,7,7]})\n",
    "df.drop_duplicates(subset='A')\n"
   ]
  },
  {
   "cell_type": "code",
   "execution_count": null,
   "metadata": {},
   "outputs": [],
   "source": [
    "#### 随机生成一个5x5包含随机数的dataframe，求哪一列的和是最小的。\n",
    "\n",
    "df = pd.DataFrame(np.random.random(size = (5,5)))\n",
    "df.sum().idxmin()"
   ]
  },
  {
   "cell_type": "code",
   "execution_count": null,
   "metadata": {},
   "outputs": [],
   "source": [
    "#### 随机生成一个5x5包含随机数的dataframe，返回最大的三个值的坐标。\n",
    "\n",
    "df = pd.DataFrame(np.random.random(size = (5,5)))\n",
    "df.unstack().sort_values().tail(3).index.tolist()"
   ]
  },
  {
   "cell_type": "code",
   "execution_count": null,
   "metadata": {},
   "outputs": [],
   "source": [
    "#### 随机生成一个5x5的数值范围在[-1,1]的dataframe，将每一列的负值替换成该列的平均值。\n",
    "\n",
    "df = pd.DataFrame(-1+np.random.random(size = (5,5))*2)\n",
    "df[df<0]=np.nan\n",
    "df.fillna(df.mean())"
   ]
  },
  {
   "cell_type": "code",
   "execution_count": null,
   "metadata": {},
   "outputs": [],
   "source": [
    "#### 随机生成一个10x2的dataframe并画出分别以两列为横纵坐标的散点图。\n",
    "\n",
    "import matplotlib.pyplot as plt\n",
    "import pandas as pd\n",
    "import numpy as np\n",
    "\n",
    "df = pd.DataFrame(np.random.random(size=(10,2)))\n",
    "plt.scatter(df[0], df[1])"
   ]
  },
  {
   "cell_type": "code",
   "execution_count": null,
   "metadata": {},
   "outputs": [],
   "source": [
    "### 绘制一个2x1的子图，子图1为饼图，子图2为直方图\n",
    "\n",
    "plt.subplot(2,1,1)\n",
    "plt.pie(df[0])\n",
    "plt.subplot(2,1,2)\n",
    "plt.hist(df[1])"
   ]
  },
  {
   "cell_type": "code",
   "execution_count": null,
   "metadata": {},
   "outputs": [],
   "source": []
  }
 ],
 "metadata": {
  "kernelspec": {
   "display_name": "Python 3",
   "language": "python",
   "name": "python3"
  },
  "language_info": {
   "codemirror_mode": {
    "name": "ipython",
    "version": 3
   },
   "file_extension": ".py",
   "mimetype": "text/x-python",
   "name": "python",
   "nbconvert_exporter": "python",
   "pygments_lexer": "ipython3",
   "version": "3.7.9"
  }
 },
 "nbformat": 4,
 "nbformat_minor": 4
}
