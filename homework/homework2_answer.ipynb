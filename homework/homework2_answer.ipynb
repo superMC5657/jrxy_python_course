{
 "cells": [
  {
   "cell_type": "markdown",
   "metadata": {},
   "source": [
    "Q1：\n",
    "\n",
    "1. 从任意金融数据开源API获取10家市值最大的银行行业的上市公司从去年年初至今的股票的日行情数据，\n",
    "2. 从上述10支股票中随机挑选出四支绘制2x2的子图，横轴为日期，纵轴为收盘价，其中上面两幅子图的横轴不显示；子图1、3为折线图，子2、4为柱状图；为该图添加名为\"银行股\"的中文标题；在图1、3中，以透明度为80%的蓝色填充大于1.5倍均值的部分。"
   ]
  },
  {
   "cell_type": "code",
   "execution_count": null,
   "metadata": {},
   "outputs": [],
   "source": [
    "import tushare as ts\n",
    "import random\n",
    "\n",
    "tushare_token = '1c8b06446534ae510c8c68e38fc248b99f89ac3814cb55645ae2be72'  # 请在 tushare.pro 网站注册并且告知学生身份，可以取得你的token\n",
    "pro = ts.pro_api(tushare_token)\n",
    "\n",
    "data = pro.stock_basic(exchange='', list_status='L', fields='ts_code,symbol,name,area,industry,list_date') # 获取所有股票代码\n",
    "bank=data[data['industry']=='银行'] # 获取银行股的股票代码\n",
    "bank.reset_index(drop=True)"
   ]
  },
  {
   "cell_type": "code",
   "execution_count": null,
   "metadata": {},
   "outputs": [],
   "source": [
    "stocklist = pro.daily_basic(ts_code='', trade_date='20200106', fields='ts_code,trade_date,total_share,float_share') # 获取所有股票的市值/流通市值\n",
    "stocklist"
   ]
  },
  {
   "cell_type": "code",
   "execution_count": null,
   "metadata": {},
   "outputs": [],
   "source": [
    "import pandas as pd\n",
    "\n",
    "banklist=pd.merge(bank, stocklist, how='inner', on='ts_code') # 获取银行股的市值/流通市值\n",
    "banklist"
   ]
  },
  {
   "cell_type": "code",
   "execution_count": null,
   "metadata": {},
   "outputs": [],
   "source": [
    "banklist.sort_values(by='total_share',ascending=False).head(10) "
   ]
  },
  {
   "cell_type": "code",
   "execution_count": null,
   "metadata": {},
   "outputs": [],
   "source": [
    "codes=banklist.sort_values(by='total_share',ascending=False).head(10).ts_code.to_list() # 获取十支市值最大的银行股代码\n",
    "code=','.join(codes)\n",
    "code"
   ]
  },
  {
   "cell_type": "code",
   "execution_count": null,
   "metadata": {},
   "outputs": [],
   "source": [
    "df = pro.daily(ts_code=code, start_date='20190101', end_date='20201201') # 获取十支市值最大的银行股代码的日线行情数据"
   ]
  },
  {
   "cell_type": "code",
   "execution_count": null,
   "metadata": {},
   "outputs": [],
   "source": [
    "codes=df['ts_code'].drop_duplicates().to_list() # 绘图前的数据预处理\n",
    "df00=[]\n",
    "for code in codes:\n",
    "    df00.append(df[df['ts_code']==code].set_index('trade_date'))\n",
    "\n",
    "stk=pd.concat(df00, axis=1, join='inner')['close'].iloc[::-1,:]\n",
    "stk.columns=codes\n",
    "# stk.index=stk.index.astype(str)\n",
    "stk"
   ]
  },
  {
   "cell_type": "code",
   "execution_count": null,
   "metadata": {},
   "outputs": [],
   "source": [
    "df2=stk.iloc[:,random.sample(range(10),4)] # 随机选取四支\n",
    "df2"
   ]
  },
  {
   "cell_type": "code",
   "execution_count": null,
   "metadata": {},
   "outputs": [],
   "source": [
    "import matplotlib.pyplot as plt #绘图\n",
    "\n",
    "fig = plt.figure(figsize=(20,10))\n",
    "plt.rcParams['font.family']=['STFangsong']    #配置中文字体为仿宋\n",
    "fig.suptitle(\"银行股\")\n",
    "\n",
    "plt.subplot(2,2,1)\n",
    "plt.plot(df2[df2.columns[0]])\n",
    "plt.xticks([])\n",
    "plt.xlabel('date')\n",
    "plt.fill_between(df2.index, df2[df2.columns[0]].mean()*1.5, df2[df2.columns[0]], alpha=0.8, color='b')\n",
    "\n",
    "plt.subplot(2,2,2)\n",
    "df2[df2.columns[1]].plot(kind='bar')\n",
    "plt.xticks([])\n",
    "plt.xlabel('date')\n",
    "\n",
    "plt.subplot(2,2,3)\n",
    "plt.plot(df2[df2.columns[2]])\n",
    "plt.xticks(df2.index[::100])\n",
    "plt.xlabel('date')\n",
    "plt.fill_between(df2.index, df2[df2.columns[2]].mean()*1.5, df2[df2.columns[2]], alpha=0.8, color='b')\n",
    "\n",
    "plt.subplot(2,2,4)\n",
    "df2[df2.columns[3]].plot(kind='bar')\n",
    "plt.xticks(range(0,len(df2),100),df2.index[::100])\n",
    "plt.xlabel('date')\n",
    "\n",
    "plt.show()"
   ]
  },
  {
   "cell_type": "markdown",
   "metadata": {},
   "source": [
    "Q2：\n",
    "\n",
    "从网页 http://www.gov.cn/guowuyuan/zfgzbg.htm 提取政府工作报告，并绘制关键词的词云图。"
   ]
  },
  {
   "cell_type": "code",
   "execution_count": null,
   "metadata": {},
   "outputs": [],
   "source": [
    "import requests\n",
    "from bs4 import BeautifulSoup\n",
    "import re\n",
    "\n",
    "url=\"http://www.gov.cn/guowuyuan/zfgzbg.htm\"\n",
    "     \n",
    "def request_url(url):\n",
    "    user_agent = 'Mozilla/5.0 (Windows NT 10.0; Win64; x64) AppleWebKit/537.36 (KHTML, like Gecko) Chrome/59.0.3071.109 Safari/537.36'\n",
    "    headers = {'User-Agent': user_agent} \n",
    "    \n",
    "    res = requests.get(url,headers=headers)\n",
    "    res.encoding = 'utf-8'\n",
    "    return res.text\n",
    "\n",
    "## 获取网页\n",
    "soup = BeautifulSoup(request_url(url), 'html.parser')\n",
    "soup.prettify()\n",
    "\n",
    "## 提取网页信息\n",
    "text = [i for i in soup.find_all(name='div', attrs={'class':'content'})[0].stripped_strings]\n",
    "text = ''.join(text[9:-10])\n",
    "text"
   ]
  },
  {
   "cell_type": "code",
   "execution_count": null,
   "metadata": {},
   "outputs": [],
   "source": [
    "from wordcloud import WordCloud\n",
    "import matplotlib.pyplot as plt\n",
    "import jieba\n",
    "import numpy as np\n",
    "import jieba.analyse as analyse\n",
    "\n",
    "## 使用jieba提取关键词\n",
    "keywords = analyse.textrank(text, topK=30, withWeight=True)\n",
    "keywords"
   ]
  },
  {
   "cell_type": "code",
   "execution_count": null,
   "metadata": {},
   "outputs": [],
   "source": [
    "## 绘制词云图\n",
    "wc =  WordCloud(font_path=\"simhei.ttf\", background_color='white')\n",
    "my_wordcloud = wc.fit_words(dict(keywords))\n",
    "\n",
    "plt.imshow(my_wordcloud)\n",
    "plt.axis(\"off\")\n",
    "plt.show()"
   ]
  },
  {
   "cell_type": "markdown",
   "metadata": {},
   "source": [
    "Q3：\n",
    "\n",
    "1. 读取本地的'sina_fin_news.csv'文件（可从github上下载）\n",
    "2. 计算了每个新闻的情感评分\n",
    "3. 计算每一天的情感评分的均值并按目标格式输出\n"
   ]
  },
  {
   "cell_type": "code",
   "execution_count": null,
   "metadata": {},
   "outputs": [],
   "source": [
    "from snownlp import SnowNLP\n",
    "import pandas as pd\n",
    "\n",
    "sina_news = pd.read_csv('sina_fin_news.csv', encoding = 'ansi')\n",
    "sina_news['date'] = [x.split(' ')[0] for x in sina_news['date']]\n",
    "sina_news['status'] = [SnowNLP(text).sentiments for text in sina_news['news']]\n",
    "sina_news"
   ]
  },
  {
   "cell_type": "code",
   "execution_count": null,
   "metadata": {},
   "outputs": [],
   "source": []
  }
 ],
 "metadata": {
  "kernelspec": {
   "display_name": "Python 3",
   "language": "python",
   "name": "python3"
  },
  "language_info": {
   "codemirror_mode": {
    "name": "ipython",
    "version": 3
   },
   "file_extension": ".py",
   "mimetype": "text/x-python",
   "name": "python",
   "nbconvert_exporter": "python",
   "pygments_lexer": "ipython3",
   "version": "3.7.9"
  }
 },
 "nbformat": 4,
 "nbformat_minor": 4
}
