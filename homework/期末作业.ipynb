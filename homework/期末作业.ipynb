{
 "cells": [
  {
   "cell_type": "markdown",
   "metadata": {},
   "source": [
    "### 期末作业\n",
    "\n",
    "**Notice!!!!!**\n",
    "\n",
    "1. 请将期末作业于**2021年1月7日，晚上24:00**之前提交至邮箱 liyan_zjgsu@163.com\n",
    "2. 请以jupyter notebook的形式提交, 文件的命名方式为**PythonFinal_班级_学号__姓名**（原始文件或压缩文件均需以此方式命名）\n",
    "3. 特别说明：为了便于给分以及避免漏判，请大家在写完代码之后注意：  \n",
    "（1）将代码按照各小题**模块化**  \n",
    "（2）尽可能多的写上**注释**，特别是对每个小题具体解法以及生成结果的说明\n"
   ]
  },
  {
   "cell_type": "markdown",
   "metadata": {},
   "source": [
    "**格式举例**\n",
    "\n",
    "```\n",
    "#### Answer for Q1 \n",
    "\n",
    "import tushare as ts\n",
    "……\n",
    "\n",
    "## Q1.1 请从tushareAPI获取2017年初至今所有银行股的收盘价。  \n",
    "\n",
    "your code block ## 行间注释\n",
    "\n",
    "print(result) ## 输出结果\n",
    "\n",
    "## Q1.2 ……\n",
    "\n",
    "……\n",
    "\n",
    "#### Answer for Q2\n",
    "……\n",
    "## Q2.1\n",
    "……\n",
    "## Q2.2\n",
    "……\n",
    "```\n"
   ]
  },
  {
   "cell_type": "markdown",
   "metadata": {},
   "source": [
    "**Q1.**\n",
    "\n",
    "    1. 生成一个元素取值在[0, 100]中随机分布的10x4的二维数组A，生成一个元素取值符合正态分布的一维数组B，数组长度为40\n",
    "    2. 将B重塑为4x10的二维数组，计算矩阵C = AxB，C的逆矩阵以及C的行列式。\n",
    "    3. (a)以列表的形式返回矩阵C每一行中大于该行均值的数字 (b)以二维数组的形式返回上述数字所处的位置。\n",
    "    4. 从二维数组C生成一个DataFrame，将列名重命名为字母A~J\n",
    "    5. 将该DataFrame保存到本地C盘根目录下，文件名为rand_num.csv\n",
    "    \n",
    "**解答：**"
   ]
  },
  {
   "cell_type": "code",
   "execution_count": null,
   "metadata": {},
   "outputs": [],
   "source": []
  },
  {
   "cell_type": "markdown",
   "metadata": {},
   "source": [
    "**Q2.**\n",
    "\n",
    "    1. 从tushareAPI提取所有上市公司的股票列表，从上市日期在2010年之前的股票中随机选出10支，从tushare获得它们的日线行情数据\n",
    "    2. 将这10支股票的成交量按照trade_date连接，取数据并集的方式合并成一个dataframe，列名为股票代码，行索引为trade_date\n",
    "    3. 随机选出两支股票，(a)对它们的收益率序列进行独立两样本t检验 (b)对它们的收盘价序列进行线性回归并输出结果\n",
    "    4. 对2中的表格，计算每一行的均值，并取出均值最大的10行\n",
    "    5. 将2中表格的nan值填充为对应列的均值，可视化该表格为折线图\n",
    "\n",
    "**解答：**"
   ]
  },
  {
   "cell_type": "code",
   "execution_count": null,
   "metadata": {},
   "outputs": [],
   "source": []
  },
  {
   "cell_type": "markdown",
   "metadata": {},
   "source": [
    "**Q3.**\n",
    "\n",
    "    1. 从 url=http://stock.finance.sina.com.cn/stock/go.php/vReport_List/kind/lastest/index.phtml?p=1 爬取1-50页的标题、报告类型、发布日期、机构四项信息，并将它们存入DataFrame中\n",
    "\n",
    "|title|type|date|institution|\n",
    "| -- | -- | -- | -- |\n",
    "| 标题1 | …… | …… | …… |\n",
    "| 标题2 | …… | …… | …… |\n",
    "……\n",
    "\n",
    "    2. 将该DataFrame存入本地的MySQL数据库中，存入的数据库名为sina，表名为report\n",
    "    3. 利用SQL语句统计上表中不同类型的记录数量，并从数据库中筛选 报告类型 为 行业 的表格\n",
    "    4. (a)对1中表格的 标题 这一列进行情感评分，并存入原始表格的sentiment列 (b)将情感评分的值按照 报告类型 求平均\n",
    "    5. 点击1中url页面里的标题，可以看到每篇研报的具体文字内容，请利用tf-idf和textrank算法提取该url页面所有研报内容权重最大的关键词，并以DataFrame格式输出\n",
    "    6. 绘制上述url页面中第一篇研报的词云图，注意过滤停用词。\n",
    "\n",
    "|title|tf-idf|textrank|\n",
    "| -- | -- | -- |\n",
    "| 标题1 | 关键字 | 关键字 |\n",
    "| 标题2 | 关键字 | 关键字 |\n",
    "……\n",
    "\n",
    "**解答：**"
   ]
  },
  {
   "cell_type": "code",
   "execution_count": null,
   "metadata": {},
   "outputs": [],
   "source": []
  },
  {
   "cell_type": "markdown",
   "metadata": {},
   "source": [
    "**Q4.** \n",
    "\n",
    "    1. 请从tushareAPI获取2017年初至今所有银行股的收盘价。  \n",
    "    2. 计算上述股票收盘价的收益率序列的相关矩阵，并绘制热图。  \n",
    "    3. 请在最大回撤最小的前50%支股票中找出下行风险最小的前50%支股票。  \n",
    "    4. 绘制总标题为中文“银行股”，2x1的子图，调整图片大小为20x20。\n",
    "    子图一：将4中筛选出的股票价格序列起始点均平移到0点后，以日期为横坐标，收盘价为纵坐标绘制折线图，不显示横坐标刻度和标签，在画面左上角添加图例，为图片添加网格并设置50%的透明度。  \n",
    "    子图二：计算个股收盘价序列的均值作为行业指数，计算该行业指数的6日的指数平均线ema，以及6日移动窗口中的标准差std6，在图中绘制原始行业指数和ema，并以ema+std6和ema-std6为上下边界进行填充，填充的颜色为红色，透明度为0.1，请在图中以适当的间距显示日期。  \n",
    "    \n",
    "**解答：**"
   ]
  },
  {
   "cell_type": "code",
   "execution_count": null,
   "metadata": {},
   "outputs": [],
   "source": []
  },
  {
   "cell_type": "markdown",
   "metadata": {},
   "source": [
    "**Q++**\n",
    "\n",
    "    画出000001.SZ的k线图，对其使用MACD策略，计算净值曲线，夏普比率，最大回撤及下行风险。\n",
    "    \n",
    "**解答：**"
   ]
  },
  {
   "cell_type": "code",
   "execution_count": null,
   "metadata": {},
   "outputs": [],
   "source": []
  }
 ],
 "metadata": {
  "kernelspec": {
   "display_name": "Python 3",
   "language": "python",
   "name": "python3"
  },
  "language_info": {
   "codemirror_mode": {
    "name": "ipython",
    "version": 3
   },
   "file_extension": ".py",
   "mimetype": "text/x-python",
   "name": "python",
   "nbconvert_exporter": "python",
   "pygments_lexer": "ipython3",
   "version": "3.7.9"
  }
 },
 "nbformat": 4,
 "nbformat_minor": 4
}
