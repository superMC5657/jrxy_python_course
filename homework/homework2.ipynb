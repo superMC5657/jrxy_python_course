{
 "cells": [
  {
   "cell_type": "markdown",
   "metadata": {},
   "source": [
    "### 请在下次课上课之前以jupyter notebook的格式将作业提交至邮箱liyan_zjgsu@163.com\n",
    "\n",
    "（**格式要求**：请大家将题目和对应的解答写在**jupyter notebook**中，并在代码中写明注释。作业和邮件标题命名方式为：班级_姓名_学号，例：金融20xx_王xx_xxxxxxxx）"
   ]
  },
  {
   "cell_type": "markdown",
   "metadata": {},
   "source": [
    "Q1：结合前几次课的内容：\n",
    "1. 从任意金融数据开源API获取10家市值最大的银行行业的上市公司从去年年初至今的股票的日行情数据，\n",
    "2. 从上述10支股票中随机挑选出四支绘制2x2的子图，横轴为日期，纵轴为收盘价，其中上面两幅子图的横轴不显示；子图1、3为折线图，子2、4为柱状图；为该图添加名为\"银行股\"的中文标题；在图1、3中，以透明度为80%的蓝色填充大于1.5倍均值的部分。"
   ]
  },
  {
   "cell_type": "markdown",
   "metadata": {},
   "source": [
    "Q2：从网页 http://www.gov.cn/guowuyuan/zfgzbg.htm 提取政府工作报告，并绘制关键词的词云图。"
   ]
  },
  {
   "cell_type": "code",
   "execution_count": null,
   "metadata": {},
   "outputs": [],
   "source": []
  }
 ],
 "metadata": {
  "kernelspec": {
   "display_name": "Python 3",
   "language": "python",
   "name": "python3"
  },
  "language_info": {
   "codemirror_mode": {
    "name": "ipython",
    "version": 3
   },
   "file_extension": ".py",
   "mimetype": "text/x-python",
   "name": "python",
   "nbconvert_exporter": "python",
   "pygments_lexer": "ipython3",
   "version": "3.7.9"
  }
 },
 "nbformat": 4,
 "nbformat_minor": 4
}
